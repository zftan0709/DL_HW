{
 "cells": [
  {
   "cell_type": "markdown",
   "metadata": {},
   "source": [
    "# ** CPSC 8810 Deep Learning - HW1-3 **\n",
    "---\n",
    "\n",
    "## Introduction\n",
    "_**Note:** This assignment makes use of the MNIST dataset_\n",
    "\n",
    "The main objective of this assignments:\n",
    "* Fit network with random labels\n",
    "* Compare number of parameters vs generalization\n",
    "* Compare flatness vs generalization"
   ]
  },
  {
   "cell_type": "code",
   "execution_count": 1,
   "metadata": {},
   "outputs": [],
   "source": [
    "import tensorflow as tf\n",
    "import cv2\n",
    "from tensorflow.examples.tutorials.mnist import input_data\n",
    "from sklearn.decomposition import PCA\n",
    "\n",
    "tf.__version__\n",
    "import numpy as np\n",
    "%matplotlib inline\n",
    "import matplotlib.pyplot as plt"
   ]
  },
  {
   "cell_type": "markdown",
   "metadata": {},
   "source": [
    "## MNIST Dataset Preparation and Visualization"
   ]
  },
  {
   "cell_type": "code",
   "execution_count": 2,
   "metadata": {},
   "outputs": [
    {
     "name": "stdout",
     "output_type": "stream",
     "text": [
      "WARNING:tensorflow:From <ipython-input-2-2cdd42740c4c>:1: read_data_sets (from tensorflow.contrib.learn.python.learn.datasets.mnist) is deprecated and will be removed in a future version.\n",
      "Instructions for updating:\n",
      "Please use alternatives such as official/mnist/dataset.py from tensorflow/models.\n",
      "WARNING:tensorflow:From /home/zhifant/.conda/envs/DL_HW1/lib/python3.6/site-packages/tensorflow_core/contrib/learn/python/learn/datasets/mnist.py:260: maybe_download (from tensorflow.contrib.learn.python.learn.datasets.base) is deprecated and will be removed in a future version.\n",
      "Instructions for updating:\n",
      "Please write your own downloading logic.\n",
      "WARNING:tensorflow:From /home/zhifant/.conda/envs/DL_HW1/lib/python3.6/site-packages/tensorflow_core/contrib/learn/python/learn/datasets/mnist.py:262: extract_images (from tensorflow.contrib.learn.python.learn.datasets.mnist) is deprecated and will be removed in a future version.\n",
      "Instructions for updating:\n",
      "Please use tf.data to implement this functionality.\n",
      "Extracting data/MNIST/train-images-idx3-ubyte.gz\n",
      "WARNING:tensorflow:From /home/zhifant/.conda/envs/DL_HW1/lib/python3.6/site-packages/tensorflow_core/contrib/learn/python/learn/datasets/mnist.py:267: extract_labels (from tensorflow.contrib.learn.python.learn.datasets.mnist) is deprecated and will be removed in a future version.\n",
      "Instructions for updating:\n",
      "Please use tf.data to implement this functionality.\n",
      "Extracting data/MNIST/train-labels-idx1-ubyte.gz\n",
      "WARNING:tensorflow:From /home/zhifant/.conda/envs/DL_HW1/lib/python3.6/site-packages/tensorflow_core/contrib/learn/python/learn/datasets/mnist.py:110: dense_to_one_hot (from tensorflow.contrib.learn.python.learn.datasets.mnist) is deprecated and will be removed in a future version.\n",
      "Instructions for updating:\n",
      "Please use tf.one_hot on tensors.\n",
      "Extracting data/MNIST/t10k-images-idx3-ubyte.gz\n",
      "Extracting data/MNIST/t10k-labels-idx1-ubyte.gz\n",
      "WARNING:tensorflow:From /home/zhifant/.conda/envs/DL_HW1/lib/python3.6/site-packages/tensorflow_core/contrib/learn/python/learn/datasets/mnist.py:290: DataSet.__init__ (from tensorflow.contrib.learn.python.learn.datasets.mnist) is deprecated and will be removed in a future version.\n",
      "Instructions for updating:\n",
      "Please use alternatives such as official/mnist/dataset.py from tensorflow/models.\n",
      "Training Dataset Size: 55000\n",
      "Validation Dataset Size: 5000\n",
      "Testing Dataset Size: 10000\n"
     ]
    }
   ],
   "source": [
    "data = input_data.read_data_sets('data/MNIST/', one_hot=True);\n",
    "\n",
    "train_num = data.train.num_examples\n",
    "valid_num = data.validation.num_examples\n",
    "test_num = data.test.num_examples\n",
    "img_flatten = 784\n",
    "img_size = 28\n",
    "num_classes = 10\n",
    "print(\"Training Dataset Size:\",train_num)\n",
    "print(\"Validation Dataset Size:\",valid_num)\n",
    "print(\"Testing Dataset Size:\",test_num)"
   ]
  },
  {
   "cell_type": "code",
   "execution_count": 3,
   "metadata": {},
   "outputs": [
    {
     "data": {
      "image/png": "[encoded data removed]",
      "text/plain": [
       "<Figure size 864x288 with 10 Axes>"
      ]
     },
     "metadata": {},
     "output_type": "display_data"
    }
   ],
   "source": [
    "fig, axs = plt.subplots(2,5)\n",
    "fig.set_size_inches(12,4)\n",
    "for i in range(10):\n",
    "    idx = np.where(np.argmax(data.train.labels,1)==i)[0][0]\n",
    "    axs[int(i/5),i%5].imshow(data.train.images[idx].reshape(28,28))\n",
    "    axs[int(i/5),i%5].set_title(str(i))\n",
    "    axs[int(i/5),i%5].axis('off')"
   ]
  },
  {
   "cell_type": "markdown",
   "metadata": {},
   "source": [
    "### CIFAR-10 Data Distribution Before Augmentation"
   ]
  },
  {
   "cell_type": "code",
   "execution_count": 4,
   "metadata": {},
   "outputs": [
    {
     "data": {
      "image/png": "[encoded data removed]",
      "text/plain": [
       "<Figure size 720x360 with 1 Axes>"
      ]
     },
     "metadata": {},
     "output_type": "display_data"
    }
   ],
   "source": [
    "bar_fig = plt.figure(figsize=[10,5])\n",
    "unique, counts = np.unique(np.argmax(data.train.labels,1), return_counts=True)\n",
    "plt.bar(unique,counts)\n",
    "plt.title(\"Data Distribution Before Data Augmentation\")\n",
    "plt.xticks(unique,np.arange(10));"
   ]
  },
  {
   "cell_type": "markdown",
   "metadata": {},
   "source": [
    "### Parameter Count Function"
   ]
  },
  {
   "cell_type": "code",
   "execution_count": 5,
   "metadata": {},
   "outputs": [],
   "source": [
    "def parameter_count():\n",
    "    total_parameters = 0\n",
    "    for variable in tf.trainable_variables():\n",
    "        print(variable)\n",
    "        shape = variable.get_shape()\n",
    "        variable_parameters = 1\n",
    "        for dim in shape:\n",
    "            variable_parameters *= dim.value\n",
    "        #print(\"parameter num:\",variable_parameters)\n",
    "        total_parameters += variable_parameters\n",
    "    print(\"Total Parameter: \",total_parameters)\n",
    "    return total_parameters"
   ]
  },
  {
   "cell_type": "markdown",
   "metadata": {},
   "source": [
    "## 1.1 Model 1 Architecture"
   ]
  },
  {
   "cell_type": "code",
   "execution_count": 6,
   "metadata": {},
   "outputs": [
    {
     "name": "stdout",
     "output_type": "stream",
     "text": [
      "WARNING:tensorflow:From <ipython-input-6-dfc05532463f>:5: calling argmax (from tensorflow.python.ops.math_ops) with dimension is deprecated and will be removed in a future version.\n",
      "Instructions for updating:\n",
      "Use the `axis` argument instead\n",
      "WARNING:tensorflow:From <ipython-input-6-dfc05532463f>:7: conv2d (from tensorflow.python.layers.convolutional) is deprecated and will be removed in a future version.\n",
      "Instructions for updating:\n",
      "Use `tf.keras.layers.Conv2D` instead.\n",
      "WARNING:tensorflow:From /home/zhifant/.conda/envs/DL_HW1/lib/python3.6/site-packages/tensorflow_core/python/layers/convolutional.py:424: Layer.apply (from tensorflow.python.keras.engine.base_layer) is deprecated and will be removed in a future version.\n",
      "Instructions for updating:\n",
      "Please use `layer.__call__` method instead.\n",
      "WARNING:tensorflow:From <ipython-input-6-dfc05532463f>:8: max_pooling2d (from tensorflow.python.layers.pooling) is deprecated and will be removed in a future version.\n",
      "Instructions for updating:\n",
      "Use keras.layers.MaxPooling2D instead.\n",
      "WARNING:tensorflow:From <ipython-input-6-dfc05532463f>:11: flatten (from tensorflow.python.layers.core) is deprecated and will be removed in a future version.\n",
      "Instructions for updating:\n",
      "Use keras.layers.flatten instead.\n",
      "WARNING:tensorflow:From <ipython-input-6-dfc05532463f>:12: dense (from tensorflow.python.layers.core) is deprecated and will be removed in a future version.\n",
      "Instructions for updating:\n",
      "Use keras.layers.Dense instead.\n",
      "WARNING:tensorflow:From <ipython-input-6-dfc05532463f>:14: softmax_cross_entropy_with_logits (from tensorflow.python.ops.nn_ops) is deprecated and will be removed in a future version.\n",
      "Instructions for updating:\n",
      "\n",
      "Future major versions of TensorFlow will allow gradients to flow\n",
      "into the labels input on backprop by default.\n",
      "\n",
      "See `tf.nn.softmax_cross_entropy_with_logits_v2`.\n",
      "\n",
      "<tf.Variable 'conv2d/kernel:0' shape=(5, 5, 1, 8) dtype=float32_ref>\n",
      "<tf.Variable 'conv2d/bias:0' shape=(8,) dtype=float32_ref>\n",
      "<tf.Variable 'conv2d_1/kernel:0' shape=(5, 5, 8, 16) dtype=float32_ref>\n",
      "<tf.Variable 'conv2d_1/bias:0' shape=(16,) dtype=float32_ref>\n",
      "<tf.Variable 'dense/kernel:0' shape=(784, 128) dtype=float32_ref>\n",
      "<tf.Variable 'dense/bias:0' shape=(128,) dtype=float32_ref>\n",
      "<tf.Variable 'dense_1/kernel:0' shape=(128, 10) dtype=float32_ref>\n",
      "<tf.Variable 'dense_1/bias:0' shape=(10,) dtype=float32_ref>\n",
      "Total Parameter:  105194\n"
     ]
    }
   ],
   "source": [
    "tf.reset_default_graph()\n",
    "x = tf.placeholder(tf.float32, shape=[None, img_flatten], name='x')\n",
    "input_x = tf.reshape(x,[-1,img_size,img_size,1])\n",
    "y = tf.placeholder(tf.float32, shape=[None, num_classes], name='y')\n",
    "y_cls = tf.argmax(y,dimension=1)\n",
    "\n",
    "conv1 = tf.layers.conv2d(inputs=input_x,filters=8,kernel_size=5,padding=\"same\",activation=tf.nn.relu);\n",
    "pool1 = tf.layers.max_pooling2d(inputs=conv1,pool_size=2,strides=2);\n",
    "conv2 = tf.layers.conv2d(inputs=pool1,filters=16,kernel_size=5,padding=\"same\",activation=tf.nn.relu);\n",
    "pool2 = tf.layers.max_pooling2d(inputs=conv2,pool_size=2,strides=2);\n",
    "flat1 = tf.layers.flatten(pool2);\n",
    "fc1 = tf.layers.dense(inputs=flat1,units=128,activation=tf.nn.relu);\n",
    "logits = tf.layers.dense(inputs=fc1,units=num_classes,activation=None);\n",
    "cross_entropy = tf.nn.softmax_cross_entropy_with_logits(labels=y,logits=logits);\n",
    "loss = tf.reduce_mean(cross_entropy);\n",
    "\n",
    "# Accuracy\n",
    "softmax = tf.nn.softmax(logits=logits);\n",
    "pred_op = tf.argmax(softmax,dimension=1);\n",
    "acc_op = tf.reduce_mean(tf.cast(tf.equal(pred_op, y_cls), tf.float32));\n",
    "optimizer = tf.train.AdamOptimizer(learning_rate=0.005);\n",
    "train_op = optimizer.minimize(loss);\n",
    "\n",
    "param1 = parameter_count()"
   ]
  },
  {
   "cell_type": "code",
   "execution_count": 7,
   "metadata": {},
   "outputs": [
    {
     "data": {
      "text/plain": [
       "TensorShape([Dimension(None), Dimension(784)])"
      ]
     },
     "execution_count": 7,
     "metadata": {},
     "output_type": "execute_result"
    }
   ],
   "source": [
    "flat1.shape"
   ]
  },
  {
   "cell_type": "markdown",
   "metadata": {},
   "source": [
    "### 1.2 Training Model 1"
   ]
  },
  {
   "cell_type": "code",
   "execution_count": 181,
   "metadata": {},
   "outputs": [
    {
     "name": "stdout",
     "output_type": "stream",
     "text": [
      "Epoch:      0, Training Loss: 0.0242676, Training Accuracy: 100.0%, Test Loss: 0.0455143, Test Accuracy:  98.6%\n"
     ]
    }
   ],
   "source": [
    "train_loss_list1 = []\n",
    "train_acc_list1 = []\n",
    "test_loss_list1 = []\n",
    "test_acc_list1 = []\n",
    "\n",
    "session = tf.Session()\n",
    "session.run(tf.global_variables_initializer())\n",
    "\n",
    "BATCH_SIZE = 64\n",
    "EPOCH = 1\n",
    "for i in range(EPOCH):\n",
    "    for j in range(int(data.train.num_examples/BATCH_SIZE)):\n",
    "\n",
    "        x_batch, y_true_batch = data.train.next_batch(BATCH_SIZE)\n",
    "        \n",
    "        session.run(train_op, feed_dict={x: x_batch,y: y_true_batch})\n",
    "    train_loss, train_acc = session.run([loss,acc_op],feed_dict={x:x_batch,y:y_true_batch})\n",
    "    train_loss_list1.append(train_loss)\n",
    "    train_acc_list1.append(train_acc)\n",
    "    test_loss, test_acc = session.run([loss,acc_op],feed_dict={x:data.test.images,y:data.test.labels})\n",
    "    test_loss_list1.append(test_loss)\n",
    "    test_acc_list1.append(test_acc)\n",
    "    msg = \"Epoch: {0:>6}, Training Loss: {1:>1.6}, Training Accuracy: {2:>6.1%}, Test Loss: {3:>1.6}, Test Accuracy: {4:>6.1%}\"\n",
    "    print(msg.format(i, train_loss, train_acc, test_loss, test_acc))"
   ]
  },
  {
   "cell_type": "markdown",
   "metadata": {},
   "source": [
    "___\n",
    "## 2.1 Model 2 Architecture"
   ]
  },
  {
   "cell_type": "code",
   "execution_count": 204,
   "metadata": {},
   "outputs": [
    {
     "name": "stdout",
     "output_type": "stream",
     "text": [
      "<tf.Variable 'conv2d/kernel:0' shape=(5, 5, 1, 6) dtype=float32_ref>\n",
      "<tf.Variable 'conv2d/bias:0' shape=(6,) dtype=float32_ref>\n",
      "<tf.Variable 'conv2d_1/kernel:0' shape=(5, 5, 6, 24) dtype=float32_ref>\n",
      "<tf.Variable 'conv2d_1/bias:0' shape=(24,) dtype=float32_ref>\n",
      "<tf.Variable 'dense/kernel:0' shape=(1176, 32) dtype=float32_ref>\n",
      "<tf.Variable 'dense/bias:0' shape=(32,) dtype=float32_ref>\n",
      "<tf.Variable 'dense_1/kernel:0' shape=(32, 10) dtype=float32_ref>\n",
      "<tf.Variable 'dense_1/bias:0' shape=(10,) dtype=float32_ref>\n",
      "Total Parameter:  41774\n"
     ]
    }
   ],
   "source": [
    "tf.reset_default_graph()\n",
    "x = tf.placeholder(tf.float32, shape=[None, img_flatten], name='x')\n",
    "input_x = tf.reshape(x,[-1,img_size,img_size,1])\n",
    "y = tf.placeholder(tf.float32, shape=[None, num_classes], name='y')\n",
    "y_cls = tf.argmax(y,dimension=1)\n",
    "\n",
    "conv1 = tf.layers.conv2d(inputs=input_x,filters=6,kernel_size=5,padding=\"same\",activation=tf.nn.relu);\n",
    "pool1 = tf.layers.max_pooling2d(inputs=conv1,pool_size=2,strides=2);\n",
    "conv2 = tf.layers.conv2d(inputs=pool1,filters=24,kernel_size=5,padding=\"same\",activation=tf.nn.relu);\n",
    "pool2 = tf.layers.max_pooling2d(inputs=conv2,pool_size=2,strides=2);\n",
    "flat1 = tf.layers.flatten(pool2);\n",
    "fc1 = tf.layers.dense(inputs=flat1,units=32,activation=tf.nn.relu);\n",
    "logits = tf.layers.dense(inputs=fc1,units=num_classes,activation=None);\n",
    "cross_entropy = tf.nn.softmax_cross_entropy_with_logits(labels=y,logits=logits);\n",
    "loss = tf.reduce_mean(cross_entropy);\n",
    "\n",
    "# Accuracy\n",
    "softmax = tf.nn.softmax(logits=logits);\n",
    "pred_op = tf.argmax(softmax,dimension=1);\n",
    "acc_op = tf.reduce_mean(tf.cast(tf.equal(pred_op, y_cls), tf.float32));\n",
    "optimizer = tf.train.AdamOptimizer(learning_rate=0.005);\n",
    "train_op = optimizer.minimize(loss);\n",
    "\n",
    "param2 = parameter_count()"
   ]
  },
  {
   "cell_type": "markdown",
   "metadata": {},
   "source": [
    "### 2.2 Model 2 Training"
   ]
  },
  {
   "cell_type": "code",
   "execution_count": 207,
   "metadata": {},
   "outputs": [
    {
     "name": "stdout",
     "output_type": "stream",
     "text": [
      "Epoch:      0, Training Loss: 0.0415243, Training Accuracy:  98.4%, Test Loss: 0.0632147, Test Accuracy:  97.9%\n"
     ]
    }
   ],
   "source": [
    "train_loss_list2 = []\n",
    "train_acc_list2 = []\n",
    "test_loss_list2 = []\n",
    "test_acc_list2 = []\n",
    "\n",
    "session = tf.Session()\n",
    "session.run(tf.global_variables_initializer())\n",
    "\n",
    "BATCH_SIZE = 64\n",
    "EPOCH = 1\n",
    "for i in range(EPOCH):\n",
    "    for j in range(int(data.train.num_examples/BATCH_SIZE)):\n",
    "\n",
    "        x_batch, y_true_batch = data.train.next_batch(BATCH_SIZE)\n",
    "        \n",
    "        session.run(train_op, feed_dict={x: x_batch,y: y_true_batch})\n",
    "    train_loss, train_acc = session.run([loss,acc_op],feed_dict={x:x_batch,y:y_true_batch})\n",
    "    train_loss_list2.append(train_loss)\n",
    "    train_acc_list2.append(train_acc)\n",
    "    test_loss, test_acc = session.run([loss,acc_op],feed_dict={x:data.test.images,y:data.test.labels})\n",
    "    test_loss_list2.append(test_loss)\n",
    "    test_acc_list2.append(test_acc)\n",
    "    msg = \"Epoch: {0:>6}, Training Loss: {1:>1.6}, Training Accuracy: {2:>6.1%}, Test Loss: {3:>1.6}, Test Accuracy: {4:>6.1%}\"\n",
    "    print(msg.format(i, train_loss, train_acc, test_loss, test_acc))"
   ]
  },
  {
   "cell_type": "markdown",
   "metadata": {},
   "source": [
    "___\n",
    "## 3.1 Model 3 Architecture"
   ]
  },
  {
   "cell_type": "code",
   "execution_count": 208,
   "metadata": {},
   "outputs": [
    {
     "name": "stdout",
     "output_type": "stream",
     "text": [
      "<tf.Variable 'conv2d/kernel:0' shape=(5, 5, 1, 4) dtype=float32_ref>\n",
      "<tf.Variable 'conv2d/bias:0' shape=(4,) dtype=float32_ref>\n",
      "<tf.Variable 'conv2d_1/kernel:0' shape=(5, 5, 4, 8) dtype=float32_ref>\n",
      "<tf.Variable 'conv2d_1/bias:0' shape=(8,) dtype=float32_ref>\n",
      "<tf.Variable 'dense/kernel:0' shape=(392, 32) dtype=float32_ref>\n",
      "<tf.Variable 'dense/bias:0' shape=(32,) dtype=float32_ref>\n",
      "<tf.Variable 'dense_1/kernel:0' shape=(32, 10) dtype=float32_ref>\n",
      "<tf.Variable 'dense_1/bias:0' shape=(10,) dtype=float32_ref>\n",
      "Total Parameter:  13818\n"
     ]
    }
   ],
   "source": [
    "tf.reset_default_graph()\n",
    "x = tf.placeholder(tf.float32, shape=[None, img_flatten], name='x')\n",
    "input_x = tf.reshape(x,[-1,img_size,img_size,1])\n",
    "y = tf.placeholder(tf.float32, shape=[None, num_classes], name='y')\n",
    "y_cls = tf.argmax(y,dimension=1)\n",
    "\n",
    "conv1 = tf.layers.conv2d(inputs=input_x,filters=4,kernel_size=5,padding=\"same\",activation=tf.nn.relu);\n",
    "pool1 = tf.layers.max_pooling2d(inputs=conv1,pool_size=2,strides=2);\n",
    "conv2 = tf.layers.conv2d(inputs=pool1,filters=8,kernel_size=5,padding=\"same\",activation=tf.nn.relu);\n",
    "pool2 = tf.layers.max_pooling2d(inputs=conv2,pool_size=2,strides=2);\n",
    "flat1 = tf.layers.flatten(pool2);\n",
    "fc1 = tf.layers.dense(inputs=flat1,units=32,activation=tf.nn.relu);\n",
    "logits = tf.layers.dense(inputs=fc1,units=num_classes,activation=None);\n",
    "cross_entropy = tf.nn.softmax_cross_entropy_with_logits(labels=y,logits=logits);\n",
    "loss = tf.reduce_mean(cross_entropy);\n",
    "\n",
    "# Accuracy\n",
    "softmax = tf.nn.softmax(logits=logits);\n",
    "pred_op = tf.argmax(softmax,dimension=1);\n",
    "acc_op = tf.reduce_mean(tf.cast(tf.equal(pred_op, y_cls), tf.float32));\n",
    "optimizer = tf.train.AdamOptimizer(learning_rate=0.005);\n",
    "train_op = optimizer.minimize(loss);\n",
    "\n",
    "param3 = parameter_count()"
   ]
  },
  {
   "cell_type": "markdown",
   "metadata": {},
   "source": [
    "### 3.2 Model 3 Training"
   ]
  },
  {
   "cell_type": "code",
   "execution_count": 211,
   "metadata": {},
   "outputs": [
    {
     "name": "stdout",
     "output_type": "stream",
     "text": [
      "Epoch:      0, Training Loss: 0.055768, Training Accuracy:  98.4%, Test Loss: 0.0827598, Test Accuracy:  97.5%\n"
     ]
    }
   ],
   "source": [
    "train_loss_list3= []\n",
    "train_acc_list3 = []\n",
    "test_loss_list3 = []\n",
    "test_acc_list3 = []\n",
    "\n",
    "session = tf.Session()\n",
    "session.run(tf.global_variables_initializer())\n",
    "\n",
    "BATCH_SIZE = 64\n",
    "EPOCH = 1\n",
    "for i in range(EPOCH):\n",
    "    for j in range(int(data.train.num_examples/BATCH_SIZE)):\n",
    "\n",
    "        x_batch, y_true_batch = data.train.next_batch(BATCH_SIZE)\n",
    "        \n",
    "        session.run(train_op, feed_dict={x: x_batch,y: y_true_batch})\n",
    "    train_loss, train_acc = session.run([loss,acc_op],feed_dict={x:x_batch,y:y_true_batch})\n",
    "    test_loss, test_acc = session.run([loss,acc_op],feed_dict={x:data.test.images,y:data.test.labels})\n",
    "    train_loss_list3.append(train_loss)\n",
    "    train_acc_list3.append(train_acc)\n",
    "    test_loss_list3.append(test_loss)\n",
    "    test_acc_list3.append(test_acc)\n",
    "    msg = \"Epoch: {0:>6}, Training Loss: {1:>1.6}, Training Accuracy: {2:>6.1%}, Test Loss: {3:>1.6}, Test Accuracy: {4:>6.1%}\"\n",
    "    print(msg.format(i, train_loss, train_acc, test_loss, test_acc))"
   ]
  },
  {
   "cell_type": "markdown",
   "metadata": {},
   "source": [
    "___\n",
    "## 4.1 Model 4 Architecture"
   ]
  },
  {
   "cell_type": "code",
   "execution_count": 152,
   "metadata": {},
   "outputs": [
    {
     "name": "stdout",
     "output_type": "stream",
     "text": [
      "<tf.Variable 'conv2d/kernel:0' shape=(5, 5, 1, 4) dtype=float32_ref>\n",
      "<tf.Variable 'conv2d/bias:0' shape=(4,) dtype=float32_ref>\n",
      "<tf.Variable 'conv2d_1/kernel:0' shape=(5, 5, 4, 8) dtype=float32_ref>\n",
      "<tf.Variable 'conv2d_1/bias:0' shape=(8,) dtype=float32_ref>\n",
      "<tf.Variable 'dense/kernel:0' shape=(392, 10) dtype=float32_ref>\n",
      "<tf.Variable 'dense/bias:0' shape=(10,) dtype=float32_ref>\n",
      "<tf.Variable 'dense_1/kernel:0' shape=(10, 10) dtype=float32_ref>\n",
      "<tf.Variable 'dense_1/bias:0' shape=(10,) dtype=float32_ref>\n",
      "Total Parameter:  4952\n"
     ]
    }
   ],
   "source": [
    "tf.reset_default_graph()\n",
    "x = tf.placeholder(tf.float32, shape=[None, img_flatten], name='x')\n",
    "input_x = tf.reshape(x,[-1,img_size,img_size,1])\n",
    "y = tf.placeholder(tf.float32, shape=[None, num_classes], name='y')\n",
    "y_cls = tf.argmax(y,dimension=1)\n",
    "\n",
    "conv1 = tf.layers.conv2d(inputs=input_x,filters=4,kernel_size=5,padding=\"same\",activation=tf.nn.relu);\n",
    "pool1 = tf.layers.max_pooling2d(inputs=conv1,pool_size=2,strides=2);\n",
    "conv2 = tf.layers.conv2d(inputs=pool1,filters=8,kernel_size=5,padding=\"same\",activation=tf.nn.relu);\n",
    "pool2 = tf.layers.max_pooling2d(inputs=conv2,pool_size=2,strides=2);\n",
    "flat1 = tf.layers.flatten(pool2);\n",
    "fc1 = tf.layers.dense(inputs=flat1,units=10,activation=tf.nn.relu);\n",
    "logits = tf.layers.dense(inputs=fc1,units=num_classes,activation=None);\n",
    "cross_entropy = tf.nn.softmax_cross_entropy_with_logits(labels=y,logits=logits);\n",
    "loss = tf.reduce_mean(cross_entropy);\n",
    "\n",
    "# Accuracy\n",
    "softmax = tf.nn.softmax(logits=logits);\n",
    "pred_op = tf.argmax(softmax,dimension=1);\n",
    "acc_op = tf.reduce_mean(tf.cast(tf.equal(pred_op, y_cls), tf.float32));\n",
    "optimizer = tf.train.AdamOptimizer(learning_rate=0.005);\n",
    "train_op = optimizer.minimize(loss);\n",
    "\n",
    "param4 = parameter_count()"
   ]
  },
  {
   "cell_type": "markdown",
   "metadata": {},
   "source": [
    "### 4.2 Model 4 Training"
   ]
  },
  {
   "cell_type": "code",
   "execution_count": 153,
   "metadata": {},
   "outputs": [
    {
     "name": "stdout",
     "output_type": "stream",
     "text": [
      "Epoch:      0, Training Loss: 0.0788704, Training Accuracy:  98.4%, Test Loss: 0.0825054, Test Accuracy:  97.3%\n"
     ]
    }
   ],
   "source": [
    "train_loss_list4= []\n",
    "train_acc_list4 = []\n",
    "test_loss_list4 = []\n",
    "test_acc_list4 = []\n",
    "\n",
    "session = tf.Session()\n",
    "session.run(tf.global_variables_initializer())\n",
    "\n",
    "BATCH_SIZE = 64\n",
    "EPOCH = 1\n",
    "for i in range(EPOCH):\n",
    "    for j in range(int(data.train.num_examples/BATCH_SIZE)):\n",
    "\n",
    "        x_batch, y_true_batch = data.train.next_batch(BATCH_SIZE)\n",
    "        \n",
    "        session.run(train_op, feed_dict={x: x_batch,y: y_true_batch})\n",
    "    train_loss, train_acc = session.run([loss,acc_op],feed_dict={x:x_batch,y:y_true_batch})\n",
    "    test_loss, test_acc = session.run([loss,acc_op],feed_dict={x:data.test.images,y:data.test.labels})\n",
    "    train_loss_list4.append(train_loss)\n",
    "    train_acc_list4.append(train_acc)\n",
    "    test_loss_list4.append(test_loss)\n",
    "    test_acc_list4.append(test_acc)\n",
    "    msg = \"Epoch: {0:>6}, Training Loss: {1:>1.6}, Training Accuracy: {2:>6.1%}, Test Loss: {3:>1.6}, Test Accuracy: {4:>6.1%}\"\n",
    "    print(msg.format(i, train_loss, train_acc, test_loss, test_acc))"
   ]
  },
  {
   "cell_type": "markdown",
   "metadata": {},
   "source": [
    "___\n",
    "## 5.1 Model 5 Architecture"
   ]
  },
  {
   "cell_type": "code",
   "execution_count": 154,
   "metadata": {},
   "outputs": [
    {
     "name": "stdout",
     "output_type": "stream",
     "text": [
      "<tf.Variable 'conv2d/kernel:0' shape=(5, 5, 1, 4) dtype=float32_ref>\n",
      "<tf.Variable 'conv2d/bias:0' shape=(4,) dtype=float32_ref>\n",
      "<tf.Variable 'conv2d_1/kernel:0' shape=(5, 5, 4, 4) dtype=float32_ref>\n",
      "<tf.Variable 'conv2d_1/bias:0' shape=(4,) dtype=float32_ref>\n",
      "<tf.Variable 'dense/kernel:0' shape=(196, 10) dtype=float32_ref>\n",
      "<tf.Variable 'dense/bias:0' shape=(10,) dtype=float32_ref>\n",
      "<tf.Variable 'dense_1/kernel:0' shape=(10, 10) dtype=float32_ref>\n",
      "<tf.Variable 'dense_1/bias:0' shape=(10,) dtype=float32_ref>\n",
      "Total Parameter:  2588\n"
     ]
    }
   ],
   "source": [
    "tf.reset_default_graph()\n",
    "x = tf.placeholder(tf.float32, shape=[None, img_flatten], name='x')\n",
    "input_x = tf.reshape(x,[-1,img_size,img_size,1])\n",
    "y = tf.placeholder(tf.float32, shape=[None, num_classes], name='y')\n",
    "y_cls = tf.argmax(y,dimension=1)\n",
    "\n",
    "conv1 = tf.layers.conv2d(inputs=input_x,filters=4,kernel_size=5,padding=\"same\",activation=tf.nn.relu);\n",
    "pool1 = tf.layers.max_pooling2d(inputs=conv1,pool_size=2,strides=2);\n",
    "conv2 = tf.layers.conv2d(inputs=pool1,filters=4,kernel_size=5,padding=\"same\",activation=tf.nn.relu);\n",
    "pool2 = tf.layers.max_pooling2d(inputs=conv2,pool_size=2,strides=2);\n",
    "flat1 = tf.layers.flatten(pool2);\n",
    "fc1 = tf.layers.dense(inputs=flat1,units=10,activation=tf.nn.relu);\n",
    "logits = tf.layers.dense(inputs=fc1,units=num_classes,activation=None);\n",
    "cross_entropy = tf.nn.softmax_cross_entropy_with_logits(labels=y,logits=logits);\n",
    "loss = tf.reduce_mean(cross_entropy);\n",
    "\n",
    "# Accuracy\n",
    "softmax = tf.nn.softmax(logits=logits);\n",
    "pred_op = tf.argmax(softmax,dimension=1);\n",
    "acc_op = tf.reduce_mean(tf.cast(tf.equal(pred_op, y_cls), tf.float32));\n",
    "optimizer = tf.train.AdamOptimizer(learning_rate=0.005);\n",
    "train_op = optimizer.minimize(loss);\n",
    "\n",
    "param5 = parameter_count()"
   ]
  },
  {
   "cell_type": "markdown",
   "metadata": {},
   "source": [
    "### 5.2 Model 5 Training"
   ]
  },
  {
   "cell_type": "code",
   "execution_count": 155,
   "metadata": {},
   "outputs": [
    {
     "name": "stdout",
     "output_type": "stream",
     "text": [
      "Epoch:      0, Training Loss: 0.0727373, Training Accuracy:  96.9%, Test Loss: 0.111438, Test Accuracy:  96.6%\n"
     ]
    }
   ],
   "source": [
    "train_loss_list5= []\n",
    "train_acc_list5 = []\n",
    "test_loss_list5 = []\n",
    "test_acc_list5 = []\n",
    "\n",
    "session = tf.Session()\n",
    "session.run(tf.global_variables_initializer())\n",
    "\n",
    "BATCH_SIZE = 64\n",
    "EPOCH = 1\n",
    "for i in range(EPOCH):\n",
    "    for j in range(int(data.train.num_examples/BATCH_SIZE)):\n",
    "\n",
    "        x_batch, y_true_batch = data.train.next_batch(BATCH_SIZE)\n",
    "        \n",
    "        session.run(train_op, feed_dict={x: x_batch,y: y_true_batch})\n",
    "    train_loss, train_acc = session.run([loss,acc_op],feed_dict={x:x_batch,y:y_true_batch})\n",
    "    test_loss, test_acc = session.run([loss,acc_op],feed_dict={x:data.test.images,y:data.test.labels})\n",
    "    train_loss_list5.append(train_loss)\n",
    "    train_acc_list5.append(train_acc)\n",
    "    test_loss_list5.append(test_loss)\n",
    "    test_acc_list5.append(test_acc)\n",
    "    msg = \"Epoch: {0:>6}, Training Loss: {1:>1.6}, Training Accuracy: {2:>6.1%}, Test Loss: {3:>1.6}, Test Accuracy: {4:>6.1%}\"\n",
    "    print(msg.format(i, train_loss, train_acc, test_loss, test_acc))"
   ]
  },
  {
   "cell_type": "markdown",
   "metadata": {},
   "source": [
    "___\n",
    "## 6.1 Model 6 Architecture"
   ]
  },
  {
   "cell_type": "code",
   "execution_count": 156,
   "metadata": {},
   "outputs": [
    {
     "name": "stdout",
     "output_type": "stream",
     "text": [
      "<tf.Variable 'conv2d/kernel:0' shape=(5, 5, 1, 4) dtype=float32_ref>\n",
      "<tf.Variable 'conv2d/bias:0' shape=(4,) dtype=float32_ref>\n",
      "<tf.Variable 'conv2d_1/kernel:0' shape=(5, 5, 4, 6) dtype=float32_ref>\n",
      "<tf.Variable 'conv2d_1/bias:0' shape=(6,) dtype=float32_ref>\n",
      "<tf.Variable 'dense/kernel:0' shape=(54, 10) dtype=float32_ref>\n",
      "<tf.Variable 'dense/bias:0' shape=(10,) dtype=float32_ref>\n",
      "<tf.Variable 'dense_1/kernel:0' shape=(10, 10) dtype=float32_ref>\n",
      "<tf.Variable 'dense_1/bias:0' shape=(10,) dtype=float32_ref>\n",
      "Total Parameter:  1370\n"
     ]
    }
   ],
   "source": [
    "tf.reset_default_graph()\n",
    "x = tf.placeholder(tf.float32, shape=[None, img_flatten], name='x')\n",
    "input_x = tf.reshape(x,[-1,img_size,img_size,1])\n",
    "y = tf.placeholder(tf.float32, shape=[None, num_classes], name='y')\n",
    "y_cls = tf.argmax(y,dimension=1)\n",
    "\n",
    "conv1 = tf.layers.conv2d(inputs=input_x,filters=4,kernel_size=5,padding=\"same\",activation=tf.nn.relu);\n",
    "pool1 = tf.layers.max_pooling2d(inputs=conv1,pool_size=2,strides=2);\n",
    "conv2 = tf.layers.conv2d(inputs=pool1,filters=6,kernel_size=5,padding=\"same\",activation=tf.nn.relu);\n",
    "pool2 = tf.layers.max_pooling2d(inputs=conv2,pool_size=4,strides=4);\n",
    "flat1 = tf.layers.flatten(pool2);\n",
    "fc1 = tf.layers.dense(inputs=flat1,units=10,activation=tf.nn.relu);\n",
    "logits = tf.layers.dense(inputs=fc1,units=num_classes,activation=None);\n",
    "cross_entropy = tf.nn.softmax_cross_entropy_with_logits(labels=y,logits=logits);\n",
    "loss = tf.reduce_mean(cross_entropy);\n",
    "\n",
    "# Accuracy\n",
    "softmax = tf.nn.softmax(logits=logits);\n",
    "pred_op = tf.argmax(softmax,dimension=1);\n",
    "acc_op = tf.reduce_mean(tf.cast(tf.equal(pred_op, y_cls), tf.float32));\n",
    "optimizer = tf.train.AdamOptimizer(learning_rate=0.005);\n",
    "train_op = optimizer.minimize(loss);\n",
    "\n",
    "param6 = parameter_count()"
   ]
  },
  {
   "cell_type": "markdown",
   "metadata": {},
   "source": [
    "### 6.2 Model 6 Training"
   ]
  },
  {
   "cell_type": "code",
   "execution_count": 157,
   "metadata": {},
   "outputs": [
    {
     "name": "stdout",
     "output_type": "stream",
     "text": [
      "Epoch:      0, Training Loss: 0.141093, Training Accuracy:  93.8%, Test Loss: 0.169575, Test Accuracy:  94.9%\n"
     ]
    }
   ],
   "source": [
    "train_loss_list6= []\n",
    "train_acc_list6 = []\n",
    "test_loss_list6 = []\n",
    "test_acc_list6 = []\n",
    "\n",
    "session = tf.Session()\n",
    "session.run(tf.global_variables_initializer())\n",
    "\n",
    "BATCH_SIZE = 64\n",
    "EPOCH = 1\n",
    "for i in range(EPOCH):\n",
    "    for j in range(int(data.train.num_examples/BATCH_SIZE)):\n",
    "\n",
    "        x_batch, y_true_batch = data.train.next_batch(BATCH_SIZE)\n",
    "        \n",
    "        session.run(train_op, feed_dict={x: x_batch,y: y_true_batch})\n",
    "    train_loss, train_acc = session.run([loss,acc_op],feed_dict={x:x_batch,y:y_true_batch})\n",
    "    test_loss, test_acc = session.run([loss,acc_op],feed_dict={x:data.test.images,y:data.test.labels})\n",
    "    train_loss_list6.append(train_loss)\n",
    "    train_acc_list6.append(train_acc)\n",
    "    test_loss_list6.append(test_loss)\n",
    "    test_acc_list6.append(test_acc)\n",
    "    msg = \"Epoch: {0:>6}, Training Loss: {1:>1.6}, Training Accuracy: {2:>6.1%}, Test Loss: {3:>1.6}, Test Accuracy: {4:>6.1%}\"\n",
    "    print(msg.format(i, train_loss, train_acc, test_loss, test_acc))"
   ]
  },
  {
   "cell_type": "markdown",
   "metadata": {},
   "source": [
    "___\n",
    "## 7.1 Model 7 Architecture"
   ]
  },
  {
   "cell_type": "code",
   "execution_count": 158,
   "metadata": {},
   "outputs": [
    {
     "name": "stdout",
     "output_type": "stream",
     "text": [
      "<tf.Variable 'conv2d/kernel:0' shape=(5, 5, 1, 2) dtype=float32_ref>\n",
      "<tf.Variable 'conv2d/bias:0' shape=(2,) dtype=float32_ref>\n",
      "<tf.Variable 'conv2d_1/kernel:0' shape=(5, 5, 2, 4) dtype=float32_ref>\n",
      "<tf.Variable 'conv2d_1/bias:0' shape=(4,) dtype=float32_ref>\n",
      "<tf.Variable 'dense/kernel:0' shape=(36, 10) dtype=float32_ref>\n",
      "<tf.Variable 'dense/bias:0' shape=(10,) dtype=float32_ref>\n",
      "<tf.Variable 'dense_1/kernel:0' shape=(10, 10) dtype=float32_ref>\n",
      "<tf.Variable 'dense_1/bias:0' shape=(10,) dtype=float32_ref>\n",
      "Total Parameter:  736\n"
     ]
    }
   ],
   "source": [
    "tf.reset_default_graph()\n",
    "x = tf.placeholder(tf.float32, shape=[None, img_flatten], name='x')\n",
    "input_x = tf.reshape(x,[-1,img_size,img_size,1])\n",
    "y = tf.placeholder(tf.float32, shape=[None, num_classes], name='y')\n",
    "y_cls = tf.argmax(y,dimension=1)\n",
    "\n",
    "conv1 = tf.layers.conv2d(inputs=input_x,filters=2,kernel_size=5,padding=\"same\",activation=tf.nn.relu);\n",
    "pool1 = tf.layers.max_pooling2d(inputs=conv1,pool_size=2,strides=2);\n",
    "conv2 = tf.layers.conv2d(inputs=pool1,filters=4,kernel_size=5,padding=\"same\",activation=tf.nn.relu);\n",
    "pool2 = tf.layers.max_pooling2d(inputs=conv2,pool_size=4,strides=4);\n",
    "flat1 = tf.layers.flatten(pool2);\n",
    "fc1 = tf.layers.dense(inputs=flat1,units=10,activation=tf.nn.relu);\n",
    "logits = tf.layers.dense(inputs=fc1,units=num_classes,activation=None);\n",
    "cross_entropy = tf.nn.softmax_cross_entropy_with_logits(labels=y,logits=logits);\n",
    "loss = tf.reduce_mean(cross_entropy);\n",
    "\n",
    "# Accuracy\n",
    "softmax = tf.nn.softmax(logits=logits);\n",
    "pred_op = tf.argmax(softmax,dimension=1);\n",
    "acc_op = tf.reduce_mean(tf.cast(tf.equal(pred_op, y_cls), tf.float32));\n",
    "optimizer = tf.train.AdamOptimizer(learning_rate=0.005);\n",
    "train_op = optimizer.minimize(loss);\n",
    "\n",
    "param7 = parameter_count()"
   ]
  },
  {
   "cell_type": "markdown",
   "metadata": {},
   "source": [
    "### 7.2 Model 7 Architecture"
   ]
  },
  {
   "cell_type": "code",
   "execution_count": 159,
   "metadata": {},
   "outputs": [
    {
     "name": "stdout",
     "output_type": "stream",
     "text": [
      "Epoch:      0, Training Loss: 0.380922, Training Accuracy:  92.2%, Test Loss: 0.393909, Test Accuracy:  86.0%\n"
     ]
    }
   ],
   "source": [
    "train_loss_list7= []\n",
    "train_acc_list7 = []\n",
    "test_loss_list7 = []\n",
    "test_acc_list7 = []\n",
    "\n",
    "session = tf.Session()\n",
    "session.run(tf.global_variables_initializer())\n",
    "\n",
    "BATCH_SIZE = 64\n",
    "EPOCH = 1\n",
    "for i in range(EPOCH):\n",
    "    for j in range(int(data.train.num_examples/BATCH_SIZE)):\n",
    "\n",
    "        x_batch, y_true_batch = data.train.next_batch(BATCH_SIZE)\n",
    "        \n",
    "        session.run(train_op, feed_dict={x: x_batch,y: y_true_batch})\n",
    "    train_loss, train_acc = session.run([loss,acc_op],feed_dict={x:x_batch,y:y_true_batch})\n",
    "    test_loss, test_acc = session.run([loss,acc_op],feed_dict={x:data.test.images,y:data.test.labels})\n",
    "    train_loss_list7.append(train_loss)\n",
    "    train_acc_list7.append(train_acc)\n",
    "    test_loss_list7.append(test_loss)\n",
    "    test_acc_list7.append(test_acc)\n",
    "    msg = \"Epoch: {0:>6}, Training Loss: {1:>1.6}, Training Accuracy: {2:>6.1%}, Test Loss: {3:>1.6}, Test Accuracy: {4:>6.1%}\"\n",
    "    print(msg.format(i, train_loss, train_acc, test_loss, test_acc))"
   ]
  },
  {
   "cell_type": "markdown",
   "metadata": {},
   "source": [
    "___\n",
    "## 8.1 Model 8 Architecture"
   ]
  },
  {
   "cell_type": "code",
   "execution_count": 160,
   "metadata": {},
   "outputs": [
    {
     "name": "stdout",
     "output_type": "stream",
     "text": [
      "<tf.Variable 'conv2d/kernel:0' shape=(5, 5, 1, 2) dtype=float32_ref>\n",
      "<tf.Variable 'conv2d/bias:0' shape=(2,) dtype=float32_ref>\n",
      "<tf.Variable 'conv2d_1/kernel:0' shape=(5, 5, 2, 2) dtype=float32_ref>\n",
      "<tf.Variable 'conv2d_1/bias:0' shape=(2,) dtype=float32_ref>\n",
      "<tf.Variable 'dense/kernel:0' shape=(18, 10) dtype=float32_ref>\n",
      "<tf.Variable 'dense/bias:0' shape=(10,) dtype=float32_ref>\n",
      "<tf.Variable 'dense_1/kernel:0' shape=(10, 10) dtype=float32_ref>\n",
      "<tf.Variable 'dense_1/bias:0' shape=(10,) dtype=float32_ref>\n",
      "Total Parameter:  454\n"
     ]
    }
   ],
   "source": [
    "tf.reset_default_graph()\n",
    "x = tf.placeholder(tf.float32, shape=[None, img_flatten], name='x')\n",
    "input_x = tf.reshape(x,[-1,img_size,img_size,1])\n",
    "y = tf.placeholder(tf.float32, shape=[None, num_classes], name='y')\n",
    "y_cls = tf.argmax(y,dimension=1)\n",
    "\n",
    "conv1 = tf.layers.conv2d(inputs=input_x,filters=2,kernel_size=5,padding=\"same\",activation=tf.nn.relu);\n",
    "pool1 = tf.layers.max_pooling2d(inputs=conv1,pool_size=2,strides=2);\n",
    "conv2 = tf.layers.conv2d(inputs=pool1,filters=2,kernel_size=5,padding=\"same\",activation=tf.nn.relu);\n",
    "pool2 = tf.layers.max_pooling2d(inputs=conv2,pool_size=4,strides=4);\n",
    "flat1 = tf.layers.flatten(pool2);\n",
    "fc1 = tf.layers.dense(inputs=flat1,units=10,activation=tf.nn.relu);\n",
    "logits = tf.layers.dense(inputs=fc1,units=num_classes,activation=None);\n",
    "cross_entropy = tf.nn.softmax_cross_entropy_with_logits(labels=y,logits=logits);\n",
    "loss = tf.reduce_mean(cross_entropy);\n",
    "\n",
    "# Accuracy\n",
    "softmax = tf.nn.softmax(logits=logits);\n",
    "pred_op = tf.argmax(softmax,dimension=1);\n",
    "acc_op = tf.reduce_mean(tf.cast(tf.equal(pred_op, y_cls), tf.float32));\n",
    "optimizer = tf.train.AdamOptimizer(learning_rate=0.005);\n",
    "train_op = optimizer.minimize(loss);\n",
    "\n",
    "param8 = parameter_count()"
   ]
  },
  {
   "cell_type": "markdown",
   "metadata": {},
   "source": [
    "### 8.2 Model 8 Training"
   ]
  },
  {
   "cell_type": "code",
   "execution_count": 161,
   "metadata": {},
   "outputs": [
    {
     "name": "stdout",
     "output_type": "stream",
     "text": [
      "Epoch:      0, Training Loss: 0.280267, Training Accuracy:  89.1%, Test Loss: 0.344693, Test Accuracy:  89.4%\n"
     ]
    }
   ],
   "source": [
    "train_loss_list8= []\n",
    "train_acc_list8 = []\n",
    "test_loss_list8 = []\n",
    "test_acc_list8 = []\n",
    "\n",
    "session = tf.Session()\n",
    "session.run(tf.global_variables_initializer())\n",
    "\n",
    "BATCH_SIZE = 64\n",
    "EPOCH = 1\n",
    "for i in range(EPOCH):\n",
    "    for j in range(int(data.train.num_examples/BATCH_SIZE)):\n",
    "\n",
    "        x_batch, y_true_batch = data.train.next_batch(BATCH_SIZE)\n",
    "        session.run(train_op, feed_dict={x: x_batch,y: y_true_batch})\n",
    "        \n",
    "    train_loss, train_acc = session.run([loss,acc_op],feed_dict={x:x_batch,y:y_true_batch})\n",
    "    test_loss, test_acc = session.run([loss,acc_op],feed_dict={x:data.test.images,y:data.test.labels})\n",
    "    train_loss_list8.append(train_loss)\n",
    "    train_acc_list8.append(train_acc)\n",
    "    test_loss_list8.append(test_loss)\n",
    "    test_acc_list8.append(test_acc)\n",
    "    msg = \"Epoch: {0:>6}, Training Loss: {1:>1.6}, Training Accuracy: {2:>6.1%}, Test Loss: {3:>1.6}, Test Accuracy: {4:>6.1%}\"\n",
    "    print(msg.format(i, train_loss, train_acc, test_loss, test_acc))"
   ]
  },
  {
   "cell_type": "markdown",
   "metadata": {},
   "source": [
    "___\n",
    "## 9.1 Model Architecture"
   ]
  },
  {
   "cell_type": "code",
   "execution_count": 162,
   "metadata": {},
   "outputs": [
    {
     "name": "stdout",
     "output_type": "stream",
     "text": [
      "<tf.Variable 'conv2d/kernel:0' shape=(5, 5, 1, 1) dtype=float32_ref>\n",
      "<tf.Variable 'conv2d/bias:0' shape=(1,) dtype=float32_ref>\n",
      "<tf.Variable 'conv2d_1/kernel:0' shape=(5, 5, 1, 1) dtype=float32_ref>\n",
      "<tf.Variable 'conv2d_1/bias:0' shape=(1,) dtype=float32_ref>\n",
      "<tf.Variable 'dense/kernel:0' shape=(9, 10) dtype=float32_ref>\n",
      "<tf.Variable 'dense/bias:0' shape=(10,) dtype=float32_ref>\n",
      "<tf.Variable 'dense_1/kernel:0' shape=(10, 10) dtype=float32_ref>\n",
      "<tf.Variable 'dense_1/bias:0' shape=(10,) dtype=float32_ref>\n",
      "Total Parameter:  262\n"
     ]
    }
   ],
   "source": [
    "tf.reset_default_graph()\n",
    "x = tf.placeholder(tf.float32, shape=[None, img_flatten], name='x')\n",
    "input_x = tf.reshape(x,[-1,img_size,img_size,1])\n",
    "y = tf.placeholder(tf.float32, shape=[None, num_classes], name='y')\n",
    "y_cls = tf.argmax(y,dimension=1)\n",
    "\n",
    "conv1 = tf.layers.conv2d(inputs=input_x,filters=1,kernel_size=5,padding=\"same\",activation=tf.nn.relu);\n",
    "pool1 = tf.layers.max_pooling2d(inputs=conv1,pool_size=2,strides=2);\n",
    "conv2 = tf.layers.conv2d(inputs=pool1,filters=1,kernel_size=5,padding=\"same\",activation=tf.nn.relu);\n",
    "pool2 = tf.layers.max_pooling2d(inputs=conv2,pool_size=4,strides=4);\n",
    "flat1 = tf.layers.flatten(pool2);\n",
    "fc1 = tf.layers.dense(inputs=flat1,units=10,activation=tf.nn.relu);\n",
    "logits = tf.layers.dense(inputs=fc1,units=num_classes,activation=None);\n",
    "cross_entropy = tf.nn.softmax_cross_entropy_with_logits(labels=y,logits=logits);\n",
    "loss = tf.reduce_mean(cross_entropy);\n",
    "\n",
    "# Accuracy\n",
    "softmax = tf.nn.softmax(logits=logits);\n",
    "pred_op = tf.argmax(softmax,dimension=1);\n",
    "acc_op = tf.reduce_mean(tf.cast(tf.equal(pred_op, y_cls), tf.float32));\n",
    "optimizer = tf.train.AdamOptimizer(learning_rate=0.005);\n",
    "train_op = optimizer.minimize(loss);\n",
    "\n",
    "param9 = parameter_count()"
   ]
  },
  {
   "cell_type": "markdown",
   "metadata": {},
   "source": [
    "# 9.2 Model 9 Training"
   ]
  },
  {
   "cell_type": "code",
   "execution_count": 163,
   "metadata": {},
   "outputs": [
    {
     "name": "stdout",
     "output_type": "stream",
     "text": [
      "Epoch:      0, Training Loss: 0.427875, Training Accuracy:  84.4%, Test Loss: 0.495387, Test Accuracy:  84.5%\n"
     ]
    }
   ],
   "source": [
    "train_loss_list9= []\n",
    "train_acc_list9 = []\n",
    "test_loss_list9 = []\n",
    "test_acc_list9 = []\n",
    "\n",
    "session = tf.Session()\n",
    "session.run(tf.global_variables_initializer())\n",
    "\n",
    "BATCH_SIZE = 64\n",
    "EPOCH = 1\n",
    "for i in range(EPOCH):\n",
    "    for j in range(int(data.train.num_examples/BATCH_SIZE)):\n",
    "\n",
    "        x_batch, y_true_batch = data.train.next_batch(BATCH_SIZE)\n",
    "        \n",
    "        session.run(train_op, feed_dict={x: x_batch,y: y_true_batch})\n",
    "    train_loss, train_acc = session.run([loss,acc_op],feed_dict={x:x_batch,y:y_true_batch})\n",
    "    test_loss, test_acc = session.run([loss,acc_op],feed_dict={x:data.test.images,y:data.test.labels})\n",
    "    train_loss_list9.append(train_loss)\n",
    "    train_acc_list9.append(train_acc)\n",
    "    test_loss_list9.append(test_loss)\n",
    "    test_acc_list9.append(test_acc)\n",
    "    msg = \"Epoch: {0:>6}, Training Loss: {1:>1.6}, Training Accuracy: {2:>6.1%}, Test Loss: {3:>1.6}, Test Accuracy: {4:>6.1%}\"\n",
    "    print(msg.format(i, train_loss, train_acc, test_loss, test_acc))"
   ]
  },
  {
   "cell_type": "markdown",
   "metadata": {},
   "source": [
    "___\n",
    "## 10.1 Model 10 Architecture"
   ]
  },
  {
   "cell_type": "code",
   "execution_count": 214,
   "metadata": {},
   "outputs": [
    {
     "name": "stdout",
     "output_type": "stream",
     "text": [
      "<tf.Variable 'conv2d/kernel:0' shape=(3, 3, 1, 1) dtype=float32_ref>\n",
      "<tf.Variable 'conv2d/bias:0' shape=(1,) dtype=float32_ref>\n",
      "<tf.Variable 'conv2d_1/kernel:0' shape=(3, 3, 1, 1) dtype=float32_ref>\n",
      "<tf.Variable 'conv2d_1/bias:0' shape=(1,) dtype=float32_ref>\n",
      "<tf.Variable 'dense/kernel:0' shape=(9, 10) dtype=float32_ref>\n",
      "<tf.Variable 'dense/bias:0' shape=(10,) dtype=float32_ref>\n",
      "<tf.Variable 'dense_1/kernel:0' shape=(10, 10) dtype=float32_ref>\n",
      "<tf.Variable 'dense_1/bias:0' shape=(10,) dtype=float32_ref>\n",
      "Total Parameter:  230\n"
     ]
    }
   ],
   "source": [
    "tf.reset_default_graph()\n",
    "x = tf.placeholder(tf.float32, shape=[None, img_flatten], name='x')\n",
    "input_x = tf.reshape(x,[-1,img_size,img_size,1])\n",
    "y = tf.placeholder(tf.float32, shape=[None, num_classes], name='y')\n",
    "y_cls = tf.argmax(y,dimension=1)\n",
    "\n",
    "conv1 = tf.layers.conv2d(inputs=input_x,filters=1,kernel_size=3,padding=\"same\",activation=tf.nn.relu);\n",
    "pool1 = tf.layers.max_pooling2d(inputs=conv1,pool_size=2,strides=2);\n",
    "conv2 = tf.layers.conv2d(inputs=pool1,filters=1,kernel_size=3,padding=\"same\",activation=tf.nn.relu);\n",
    "pool2 = tf.layers.max_pooling2d(inputs=conv2,pool_size=4,strides=4);\n",
    "flat1 = tf.layers.flatten(pool2);\n",
    "fc1 = tf.layers.dense(inputs=flat1,units=10,activation=tf.nn.relu);\n",
    "logits = tf.layers.dense(inputs=fc1,units=num_classes,activation=None);\n",
    "cross_entropy = tf.nn.softmax_cross_entropy_with_logits(labels=y,logits=logits);\n",
    "loss = tf.reduce_mean(cross_entropy);\n",
    "\n",
    "# Accuracy\n",
    "softmax = tf.nn.softmax(logits=logits);\n",
    "pred_op = tf.argmax(softmax,dimension=1);\n",
    "acc_op = tf.reduce_mean(tf.cast(tf.equal(pred_op, y_cls), tf.float32));\n",
    "optimizer = tf.train.AdamOptimizer(learning_rate=0.005);\n",
    "train_op = optimizer.minimize(loss);\n",
    "\n",
    "param10 = parameter_count()"
   ]
  },
  {
   "cell_type": "markdown",
   "metadata": {},
   "source": [
    "### 10.2 Model 10 Training"
   ]
  },
  {
   "cell_type": "code",
   "execution_count": 215,
   "metadata": {},
   "outputs": [
    {
     "name": "stdout",
     "output_type": "stream",
     "text": [
      "Epoch:      0, Training Loss: 0.836661, Training Accuracy:  70.3%, Test Loss: 0.76943, Test Accuracy:  74.8%\n"
     ]
    }
   ],
   "source": [
    "train_loss_list10= []\n",
    "train_acc_list10 = []\n",
    "test_loss_list10 = []\n",
    "test_acc_list10 = []\n",
    "\n",
    "session = tf.Session()\n",
    "session.run(tf.global_variables_initializer())\n",
    "\n",
    "BATCH_SIZE = 64\n",
    "EPOCH = 1\n",
    "for i in range(EPOCH):\n",
    "    for j in range(int(data.train.num_examples/BATCH_SIZE)):\n",
    "\n",
    "        x_batch, y_true_batch = data.train.next_batch(BATCH_SIZE)\n",
    "        \n",
    "        session.run(train_op, feed_dict={x: x_batch,y: y_true_batch})\n",
    "    train_loss, train_acc = session.run([loss,acc_op],feed_dict={x:x_batch,y:y_true_batch})\n",
    "    test_loss, test_acc = session.run([loss,acc_op],feed_dict={x:data.test.images,y:data.test.labels})\n",
    "    train_loss_list10.append(train_loss)\n",
    "    train_acc_list10.append(train_acc)\n",
    "    test_loss_list10.append(test_loss)\n",
    "    test_acc_list10.append(test_acc)\n",
    "    msg = \"Epoch: {0:>6}, Training Loss: {1:>1.6}, Training Accuracy: {2:>6.1%}, Test Loss: {3:>1.6}, Test Accuracy: {4:>6.1%}\"\n",
    "    print(msg.format(i, train_loss, train_acc, test_loss, test_acc))"
   ]
  },
  {
   "cell_type": "code",
   "execution_count": 216,
   "metadata": {},
   "outputs": [],
   "source": [
    "train_loss_list = np.concatenate([train_loss_list10,train_loss_list9,train_loss_list8,train_loss_list7,train_loss_list6,train_loss_list5,train_loss_list4,train_loss_list3,train_loss_list2,train_loss_list1])\n",
    "\n",
    "train_acc_list = np.concatenate([train_acc_list10,train_acc_list9,train_acc_list8,train_acc_list7,train_acc_list6,train_acc_list5,train_acc_list4,train_acc_list3,train_acc_list2,train_acc_list1])\n",
    "\n",
    "test_loss_list = np.concatenate([test_loss_list10,test_loss_list9,test_loss_list8,test_loss_list7,test_loss_list6,test_loss_list5,test_loss_list4,test_loss_list3,test_loss_list2,test_loss_list1])\n",
    "\n",
    "test_acc_list = np.concatenate([test_acc_list10,test_acc_list9,test_acc_list8,test_acc_list7,test_acc_list6,test_acc_list5,test_acc_list4,test_acc_list3,test_acc_list2,test_acc_list1])\n",
    "\n",
    "param_num = np.array([param10,param9,param8,param7,param6,param5,param4,param3,param2,param1])"
   ]
  },
  {
   "cell_type": "code",
   "execution_count": 219,
   "metadata": {},
   "outputs": [
    {
     "data": {
      "image/png": "[encoded data removed]",
      "text/plain": [
       "<Figure size 432x288 with 1 Axes>"
      ]
     },
     "metadata": {},
     "output_type": "display_data"
    },
    {
     "data": {
      "text/plain": [
       "<matplotlib.legend.Legend at 0x145f1753e898>"
      ]
     },
     "execution_count": 219,
     "metadata": {},
     "output_type": "execute_result"
    },
    {
     "data": {
      "image/png": "[encoded data removed]",
      "text/plain": [
       "<Figure size 432x288 with 1 Axes>"
      ]
     },
     "metadata": {},
     "output_type": "display_data"
    }
   ],
   "source": [
    "plt.scatter(param_num,train_loss_list)\n",
    "plt.scatter(param_num,test_loss_list)\n",
    "plt.xlabel('Parameters')\n",
    "plt.ylabel('Loss')\n",
    "plt.legend(['Train','Test'])\n",
    "plt.pause(0.1)\n",
    "plt.scatter(param_num,train_acc_list)\n",
    "plt.scatter(param_num,test_acc_list)\n",
    "plt.xlabel('Parameters')\n",
    "plt.ylabel('Accuracy')\n",
    "plt.legend(['Train','Test'])"
   ]
  }
 ],
 "metadata": {
  "kernelspec": {
   "display_name": "DL_HW1",
   "language": "python",
   "name": "dl_hw1"
  },
  "language_info": {
   "codemirror_mode": {
    "name": "ipython",
    "version": 3
   },
   "file_extension": ".py",
   "mimetype": "text/x-python",
   "name": "python",
   "nbconvert_exporter": "python",
   "pygments_lexer": "ipython3",
   "version": "3.6.2"
  }
 },
 "nbformat": 4,
 "nbformat_minor": 2
}
