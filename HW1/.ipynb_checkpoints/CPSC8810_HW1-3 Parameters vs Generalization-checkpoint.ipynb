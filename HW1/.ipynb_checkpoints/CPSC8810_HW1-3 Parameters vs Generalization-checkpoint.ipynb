{
 "cells": [
  {
   "cell_type": "markdown",
   "metadata": {},
   "source": [
    "# ** CPSC 8810 Deep Learning - HW1-3 **\n",
    "---\n",
    "\n",
    "## Introduction\n",
    "_**Note:** This assignment makes use of the MNIST dataset_\n",
    "\n",
    "The main objective of this assignments:\n",
    "* Fit network with random labels\n",
    "* Compare number of parameters vs generalization\n",
    "* Compare flatness vs generalization"
   ]
  },
  {
   "cell_type": "code",
   "execution_count": 4,
   "metadata": {},
   "outputs": [],
   "source": [
    "import tensorflow as tf\n",
    "import cv2\n",
    "from tensorflow.examples.tutorials.mnist import input_data\n",
    "from sklearn.decomposition import PCA\n",
    "\n",
    "tf.__version__\n",
    "import numpy as np\n",
    "%matplotlib inline\n",
    "import matplotlib.pyplot as plt"
   ]
  },
  {
   "cell_type": "markdown",
   "metadata": {},
   "source": [
    "## MNIST Dataset Preparation and Visualization"
   ]
  },
  {
   "cell_type": "code",
   "execution_count": 5,
   "metadata": {},
   "outputs": [
    {
     "name": "stdout",
     "output_type": "stream",
     "text": [
      "WARNING:tensorflow:From <ipython-input-5-2cdd42740c4c>:1: read_data_sets (from tensorflow.contrib.learn.python.learn.datasets.mnist) is deprecated and will be removed in a future version.\n",
      "Instructions for updating:\n",
      "Please use alternatives such as official/mnist/dataset.py from tensorflow/models.\n",
      "WARNING:tensorflow:From /home/zhifant/.conda/envs/DL_HW1/lib/python3.6/site-packages/tensorflow_core/contrib/learn/python/learn/datasets/mnist.py:260: maybe_download (from tensorflow.contrib.learn.python.learn.datasets.base) is deprecated and will be removed in a future version.\n",
      "Instructions for updating:\n",
      "Please write your own downloading logic.\n",
      "WARNING:tensorflow:From /home/zhifant/.conda/envs/DL_HW1/lib/python3.6/site-packages/tensorflow_core/contrib/learn/python/learn/datasets/mnist.py:262: extract_images (from tensorflow.contrib.learn.python.learn.datasets.mnist) is deprecated and will be removed in a future version.\n",
      "Instructions for updating:\n",
      "Please use tf.data to implement this functionality.\n",
      "Extracting data/MNIST/train-images-idx3-ubyte.gz\n",
      "WARNING:tensorflow:From /home/zhifant/.conda/envs/DL_HW1/lib/python3.6/site-packages/tensorflow_core/contrib/learn/python/learn/datasets/mnist.py:267: extract_labels (from tensorflow.contrib.learn.python.learn.datasets.mnist) is deprecated and will be removed in a future version.\n",
      "Instructions for updating:\n",
      "Please use tf.data to implement this functionality.\n",
      "Extracting data/MNIST/train-labels-idx1-ubyte.gz\n",
      "WARNING:tensorflow:From /home/zhifant/.conda/envs/DL_HW1/lib/python3.6/site-packages/tensorflow_core/contrib/learn/python/learn/datasets/mnist.py:110: dense_to_one_hot (from tensorflow.contrib.learn.python.learn.datasets.mnist) is deprecated and will be removed in a future version.\n",
      "Instructions for updating:\n",
      "Please use tf.one_hot on tensors.\n",
      "Extracting data/MNIST/t10k-images-idx3-ubyte.gz\n",
      "Extracting data/MNIST/t10k-labels-idx1-ubyte.gz\n",
      "WARNING:tensorflow:From /home/zhifant/.conda/envs/DL_HW1/lib/python3.6/site-packages/tensorflow_core/contrib/learn/python/learn/datasets/mnist.py:290: DataSet.__init__ (from tensorflow.contrib.learn.python.learn.datasets.mnist) is deprecated and will be removed in a future version.\n",
      "Instructions for updating:\n",
      "Please use alternatives such as official/mnist/dataset.py from tensorflow/models.\n",
      "Training Dataset Size: 55000\n",
      "Validation Dataset Size: 5000\n",
      "Testing Dataset Size: 10000\n"
     ]
    }
   ],
   "source": [
    "data = input_data.read_data_sets('data/MNIST/', one_hot=True);\n",
    "\n",
    "train_num = data.train.num_examples\n",
    "valid_num = data.validation.num_examples\n",
    "test_num = data.test.num_examples\n",
    "img_flatten = 784\n",
    "img_size = 28\n",
    "num_classes = 10\n",
    "print(\"Training Dataset Size:\",train_num)\n",
    "print(\"Validation Dataset Size:\",valid_num)\n",
    "print(\"Testing Dataset Size:\",test_num)"
   ]
  },
  {
   "cell_type": "code",
   "execution_count": 6,
   "metadata": {},
   "outputs": [
    {
     "data": {
      "image/png": "[encoded data removed]",
      "text/plain": [
       "<Figure size 864x288 with 10 Axes>"
      ]
     },
     "metadata": {},
     "output_type": "display_data"
    }
   ],
   "source": [
    "fig, axs = plt.subplots(2,5)\n",
    "fig.set_size_inches(12,4)\n",
    "for i in range(10):\n",
    "    idx = np.where(np.argmax(data.train.labels,1)==i)[0][0]\n",
    "    axs[int(i/5),i%5].imshow(data.train.images[idx].reshape(28,28))\n",
    "    axs[int(i/5),i%5].set_title(str(i))\n",
    "    axs[int(i/5),i%5].axis('off')"
   ]
  },
  {
   "cell_type": "markdown",
   "metadata": {},
   "source": [
    "### CIFAR-10 Data Distribution Before Augmentation"
   ]
  },
  {
   "cell_type": "code",
   "execution_count": 7,
   "metadata": {},
   "outputs": [
    {
     "data": {
      "image/png": "[encoded data removed]",
      "text/plain": [
       "<Figure size 720x360 with 1 Axes>"
      ]
     },
     "metadata": {},
     "output_type": "display_data"
    }
   ],
   "source": [
    "bar_fig = plt.figure(figsize=[10,5])\n",
    "unique, counts = np.unique(np.argmax(data.train.labels,1), return_counts=True)\n",
    "plt.bar(unique,counts)\n",
    "plt.title(\"Data Distribution Before Data Augmentation\")\n",
    "plt.xticks(unique,np.arange(10));"
   ]
  },
  {
   "cell_type": "markdown",
   "metadata": {},
   "source": [
    "### Parameter Count Function"
   ]
  },
  {
   "cell_type": "code",
   "execution_count": 11,
   "metadata": {},
   "outputs": [],
   "source": [
    "def parameter_count():\n",
    "    total_parameters = 0\n",
    "    for variable in tf.trainable_variables():\n",
    "        print(variable)\n",
    "        shape = variable.get_shape()\n",
    "        variable_parameters = 1\n",
    "        for dim in shape:\n",
    "            variable_parameters *= dim.value\n",
    "        #print(\"parameter num:\",variable_parameters)\n",
    "        total_parameters += variable_parameters\n",
    "    print(\"Total Parameter: \",total_parameters)\n",
    "    return total_parameters"
   ]
  },
  {
   "cell_type": "markdown",
   "metadata": {},
   "source": [
    "## 1.1 Model 1 Architecture"
   ]
  },
  {
   "cell_type": "code",
   "execution_count": 45,
   "metadata": {},
   "outputs": [
    {
     "name": "stdout",
     "output_type": "stream",
     "text": [
      "<tf.Variable 'conv2d/kernel:0' shape=(5, 5, 1, 16) dtype=float32_ref>\n",
      "<tf.Variable 'conv2d/bias:0' shape=(16,) dtype=float32_ref>\n",
      "<tf.Variable 'conv2d_1/kernel:0' shape=(5, 5, 16, 36) dtype=float32_ref>\n",
      "<tf.Variable 'conv2d_1/bias:0' shape=(36,) dtype=float32_ref>\n",
      "<tf.Variable 'dense/kernel:0' shape=(1764, 128) dtype=float32_ref>\n",
      "<tf.Variable 'dense/bias:0' shape=(128,) dtype=float32_ref>\n",
      "<tf.Variable 'dense_1/kernel:0' shape=(128, 10) dtype=float32_ref>\n",
      "<tf.Variable 'dense_1/bias:0' shape=(10,) dtype=float32_ref>\n",
      "Total Parameter:  242062\n"
     ]
    }
   ],
   "source": [
    "tf.reset_default_graph()\n",
    "x = tf.placeholder(tf.float32, shape=[None, img_flatten], name='x')\n",
    "input_x = tf.reshape(x,[-1,img_size,img_size,1])\n",
    "y = tf.placeholder(tf.float32, shape=[None, num_classes], name='y')\n",
    "y_cls = tf.argmax(y,dimension=1)\n",
    "\n",
    "conv1 = tf.layers.conv2d(inputs=input_x,filters=16,kernel_size=5,padding=\"same\",activation=tf.nn.relu);\n",
    "pool1 = tf.layers.max_pooling2d(inputs=conv1,pool_size=2,strides=2);\n",
    "conv2 = tf.layers.conv2d(inputs=pool1,filters=36,kernel_size=5,padding=\"same\",activation=tf.nn.relu);\n",
    "pool2 = tf.layers.max_pooling2d(inputs=conv2,pool_size=2,strides=2);\n",
    "flat1 = tf.layers.flatten(pool2);\n",
    "fc1 = tf.layers.dense(inputs=flat1,units=128,activation=tf.nn.relu);\n",
    "logits = tf.layers.dense(inputs=fc1,units=num_classes,activation=None);\n",
    "cross_entropy = tf.nn.softmax_cross_entropy_with_logits(labels=y,logits=logits);\n",
    "loss = tf.reduce_mean(cross_entropy);\n",
    "\n",
    "# Accuracy\n",
    "softmax = tf.nn.softmax(logits=logits);\n",
    "pred_op = tf.argmax(softmax,dimension=1);\n",
    "acc_op = tf.reduce_mean(tf.cast(tf.equal(pred_op, y_cls), tf.float32));\n",
    "optimizer = tf.train.AdamOptimizer(learning_rate=0.005);\n",
    "train_op = optimizer.minimize(loss);\n",
    "\n",
    "param1 = parameter_count()"
   ]
  },
  {
   "cell_type": "markdown",
   "metadata": {},
   "source": [
    "### 1.2 Training Model 1"
   ]
  },
  {
   "cell_type": "code",
   "execution_count": 46,
   "metadata": {},
   "outputs": [
    {
     "name": "stdout",
     "output_type": "stream",
     "text": [
      "Epoch:      0, Training Loss: 0.00448694, Training Accuracy: 100.0%, Test Loss: 0.0443865, Test Accuracy:  98.4%\n",
      "Epoch:      1, Training Loss: 0.0102419, Training Accuracy: 100.0%, Test Loss: 0.0417959, Test Accuracy:  98.8%\n",
      "Epoch:      2, Training Loss: 0.00716345, Training Accuracy: 100.0%, Test Loss: 0.0364437, Test Accuracy:  98.9%\n",
      "Epoch:      3, Training Loss: 0.00271016, Training Accuracy: 100.0%, Test Loss: 0.0595672, Test Accuracy:  98.4%\n",
      "Epoch:      4, Training Loss: 0.0058798, Training Accuracy: 100.0%, Test Loss: 0.0502747, Test Accuracy:  98.7%\n"
     ]
    }
   ],
   "source": [
    "train_loss_list1 = []\n",
    "train_acc_list1 = []\n",
    "test_loss_list1 = []\n",
    "test_acc_list1 = []\n",
    "\n",
    "session = tf.Session()\n",
    "session.run(tf.global_variables_initializer())\n",
    "\n",
    "BATCH_SIZE = 64\n",
    "EPOCH = 5\n",
    "for i in range(EPOCH):\n",
    "    for j in range(int(data.train.num_examples/BATCH_SIZE)):\n",
    "\n",
    "        x_batch, y_true_batch = data.train.next_batch(BATCH_SIZE)\n",
    "        \n",
    "        session.run(train_op, feed_dict={x: x_batch,y: y_true_batch})\n",
    "    train_loss, train_acc = session.run([loss,acc_op],feed_dict={x:x_batch,y:y_true_batch})\n",
    "    train_loss_list1.append(train_loss)\n",
    "    train_acc_list1.append(train_acc)\n",
    "    test_loss, test_acc = session.run([loss,acc_op],feed_dict={x:data.test.images,y:data.test.labels})\n",
    "    test_loss_list1.append(test_loss)\n",
    "    test_acc_list1.append(test_acc)\n",
    "    msg = \"Epoch: {0:>6}, Training Loss: {1:>1.6}, Training Accuracy: {2:>6.1%}, Test Loss: {3:>1.6}, Test Accuracy: {4:>6.1%}\"\n",
    "    print(msg.format(i, train_loss, train_acc, test_loss, test_acc))"
   ]
  },
  {
   "cell_type": "markdown",
   "metadata": {},
   "source": [
    "___\n",
    "## 2.1 Model 2 Architecture"
   ]
  },
  {
   "cell_type": "code",
   "execution_count": 47,
   "metadata": {},
   "outputs": [
    {
     "name": "stdout",
     "output_type": "stream",
     "text": [
      "<tf.Variable 'conv2d/kernel:0' shape=(5, 5, 1, 16) dtype=float32_ref>\n",
      "<tf.Variable 'conv2d/bias:0' shape=(16,) dtype=float32_ref>\n",
      "<tf.Variable 'conv2d_1/kernel:0' shape=(5, 5, 16, 36) dtype=float32_ref>\n",
      "<tf.Variable 'conv2d_1/bias:0' shape=(36,) dtype=float32_ref>\n",
      "<tf.Variable 'dense/kernel:0' shape=(1764, 10) dtype=float32_ref>\n",
      "<tf.Variable 'dense/bias:0' shape=(10,) dtype=float32_ref>\n",
      "<tf.Variable 'dense_1/kernel:0' shape=(10, 10) dtype=float32_ref>\n",
      "<tf.Variable 'dense_1/bias:0' shape=(10,) dtype=float32_ref>\n",
      "Total Parameter:  32612\n"
     ]
    }
   ],
   "source": [
    "tf.reset_default_graph()\n",
    "x = tf.placeholder(tf.float32, shape=[None, img_flatten], name='x')\n",
    "input_x = tf.reshape(x,[-1,img_size,img_size,1])\n",
    "y = tf.placeholder(tf.float32, shape=[None, num_classes], name='y')\n",
    "y_cls = tf.argmax(y,dimension=1)\n",
    "\n",
    "conv1 = tf.layers.conv2d(inputs=input_x,filters=16,kernel_size=5,padding=\"same\",activation=tf.nn.relu);\n",
    "pool1 = tf.layers.max_pooling2d(inputs=conv1,pool_size=2,strides=2);\n",
    "conv2 = tf.layers.conv2d(inputs=pool1,filters=36,kernel_size=5,padding=\"same\",activation=tf.nn.relu);\n",
    "pool2 = tf.layers.max_pooling2d(inputs=conv2,pool_size=2,strides=2);\n",
    "flat1 = tf.layers.flatten(pool2);\n",
    "fc1 = tf.layers.dense(inputs=flat1,units=10,activation=tf.nn.relu);\n",
    "logits = tf.layers.dense(inputs=fc1,units=num_classes,activation=None);\n",
    "cross_entropy = tf.nn.softmax_cross_entropy_with_logits(labels=y,logits=logits);\n",
    "loss = tf.reduce_mean(cross_entropy);\n",
    "\n",
    "# Accuracy\n",
    "softmax = tf.nn.softmax(logits=logits);\n",
    "pred_op = tf.argmax(softmax,dimension=1);\n",
    "acc_op = tf.reduce_mean(tf.cast(tf.equal(pred_op, y_cls), tf.float32));\n",
    "optimizer = tf.train.AdamOptimizer(learning_rate=0.005);\n",
    "train_op = optimizer.minimize(loss);\n",
    "\n",
    "param2 = parameter_count()"
   ]
  },
  {
   "cell_type": "markdown",
   "metadata": {},
   "source": [
    "### 2.2 Model 2 Training"
   ]
  },
  {
   "cell_type": "code",
   "execution_count": 48,
   "metadata": {},
   "outputs": [
    {
     "name": "stdout",
     "output_type": "stream",
     "text": [
      "Epoch:      0, Training Loss: 0.1107, Training Accuracy:  95.3%, Test Loss: 0.0864624, Test Accuracy:  97.5%\n",
      "Epoch:      1, Training Loss: 0.00826876, Training Accuracy: 100.0%, Test Loss: 0.0542757, Test Accuracy:  98.4%\n",
      "Epoch:      2, Training Loss: 0.0418426, Training Accuracy:  98.4%, Test Loss: 0.0504898, Test Accuracy:  98.5%\n",
      "Epoch:      3, Training Loss: 0.0224819, Training Accuracy: 100.0%, Test Loss: 0.0483079, Test Accuracy:  98.7%\n",
      "Epoch:      4, Training Loss: 0.0331357, Training Accuracy:  98.4%, Test Loss: 0.0534633, Test Accuracy:  98.7%\n"
     ]
    }
   ],
   "source": [
    "train_loss_list2 = []\n",
    "train_acc_list2 = []\n",
    "test_loss_list2 = []\n",
    "test_acc_list2 = []\n",
    "\n",
    "session = tf.Session()\n",
    "session.run(tf.global_variables_initializer())\n",
    "\n",
    "BATCH_SIZE = 64\n",
    "EPOCH = 5\n",
    "for i in range(EPOCH):\n",
    "    for j in range(int(data.train.num_examples/BATCH_SIZE)):\n",
    "\n",
    "        x_batch, y_true_batch = data.train.next_batch(BATCH_SIZE)\n",
    "        \n",
    "        session.run(train_op, feed_dict={x: x_batch,y: y_true_batch})\n",
    "    train_loss, train_acc = session.run([loss,acc_op],feed_dict={x:x_batch,y:y_true_batch})\n",
    "    train_loss_list2.append(train_loss)\n",
    "    train_acc_list2.append(train_acc)\n",
    "    test_loss, test_acc = session.run([loss,acc_op],feed_dict={x:data.test.images,y:data.test.labels})\n",
    "    test_loss_list2.append(test_loss)\n",
    "    test_acc_list2.append(test_acc)\n",
    "    msg = \"Epoch: {0:>6}, Training Loss: {1:>1.6}, Training Accuracy: {2:>6.1%}, Test Loss: {3:>1.6}, Test Accuracy: {4:>6.1%}\"\n",
    "    print(msg.format(i, train_loss, train_acc, test_loss, test_acc))"
   ]
  },
  {
   "cell_type": "markdown",
   "metadata": {},
   "source": [
    "___\n",
    "## 3.1 Model 3 Architecture"
   ]
  },
  {
   "cell_type": "code",
   "execution_count": 53,
   "metadata": {},
   "outputs": [
    {
     "name": "stdout",
     "output_type": "stream",
     "text": [
      "<tf.Variable 'conv2d/kernel:0' shape=(5, 5, 1, 16) dtype=float32_ref>\n",
      "<tf.Variable 'conv2d/bias:0' shape=(16,) dtype=float32_ref>\n",
      "<tf.Variable 'conv2d_1/kernel:0' shape=(5, 5, 16, 24) dtype=float32_ref>\n",
      "<tf.Variable 'conv2d_1/bias:0' shape=(24,) dtype=float32_ref>\n",
      "<tf.Variable 'dense/kernel:0' shape=(1176, 10) dtype=float32_ref>\n",
      "<tf.Variable 'dense/bias:0' shape=(10,) dtype=float32_ref>\n",
      "<tf.Variable 'dense_1/kernel:0' shape=(10, 10) dtype=float32_ref>\n",
      "<tf.Variable 'dense_1/bias:0' shape=(10,) dtype=float32_ref>\n",
      "Total Parameter:  21920\n"
     ]
    }
   ],
   "source": [
    "tf.reset_default_graph()\n",
    "x = tf.placeholder(tf.float32, shape=[None, img_flatten], name='x')\n",
    "input_x = tf.reshape(x,[-1,img_size,img_size,1])\n",
    "y = tf.placeholder(tf.float32, shape=[None, num_classes], name='y')\n",
    "y_cls = tf.argmax(y,dimension=1)\n",
    "\n",
    "conv1 = tf.layers.conv2d(inputs=input_x,filters=16,kernel_size=5,padding=\"same\",activation=tf.nn.relu);\n",
    "pool1 = tf.layers.max_pooling2d(inputs=conv1,pool_size=2,strides=2);\n",
    "conv2 = tf.layers.conv2d(inputs=pool1,filters=24,kernel_size=5,padding=\"same\",activation=tf.nn.relu);\n",
    "pool2 = tf.layers.max_pooling2d(inputs=conv2,pool_size=2,strides=2);\n",
    "flat1 = tf.layers.flatten(pool2);\n",
    "fc1 = tf.layers.dense(inputs=flat1,units=10,activation=tf.nn.relu);\n",
    "logits = tf.layers.dense(inputs=fc1,units=num_classes,activation=None);\n",
    "cross_entropy = tf.nn.softmax_cross_entropy_with_logits(labels=y,logits=logits);\n",
    "loss = tf.reduce_mean(cross_entropy);\n",
    "\n",
    "# Accuracy\n",
    "softmax = tf.nn.softmax(logits=logits);\n",
    "pred_op = tf.argmax(softmax,dimension=1);\n",
    "acc_op = tf.reduce_mean(tf.cast(tf.equal(pred_op, y_cls), tf.float32));\n",
    "optimizer = tf.train.AdamOptimizer(learning_rate=0.005);\n",
    "train_op = optimizer.minimize(loss);\n",
    "\n",
    "param3 = parameter_count()"
   ]
  },
  {
   "cell_type": "markdown",
   "metadata": {},
   "source": [
    "### 3.2 Model 3 Training"
   ]
  },
  {
   "cell_type": "code",
   "execution_count": 54,
   "metadata": {},
   "outputs": [
    {
     "name": "stdout",
     "output_type": "stream",
     "text": [
      "Epoch:      0, Training Loss: 0.00807396, Training Accuracy: 100.0%, Test Loss: 0.0677661, Test Accuracy:  98.0%\n",
      "Epoch:      1, Training Loss: 0.00583127, Training Accuracy: 100.0%, Test Loss: 0.0621058, Test Accuracy:  98.1%\n",
      "Epoch:      2, Training Loss: 0.023459, Training Accuracy: 100.0%, Test Loss: 0.0719958, Test Accuracy:  97.7%\n",
      "Epoch:      3, Training Loss: 0.0370454, Training Accuracy:  98.4%, Test Loss: 0.0573608, Test Accuracy:  98.4%\n",
      "Epoch:      4, Training Loss: 0.115823, Training Accuracy:  96.9%, Test Loss: 0.049702, Test Accuracy:  98.6%\n"
     ]
    }
   ],
   "source": [
    "train_loss_list3= []\n",
    "train_acc_list3 = []\n",
    "test_loss_list3 = []\n",
    "test_acc_list3 = []\n",
    "\n",
    "session = tf.Session()\n",
    "session.run(tf.global_variables_initializer())\n",
    "\n",
    "BATCH_SIZE = 64\n",
    "EPOCH = 5\n",
    "for i in range(EPOCH):\n",
    "    for j in range(int(data.train.num_examples/BATCH_SIZE)):\n",
    "\n",
    "        x_batch, y_true_batch = data.train.next_batch(BATCH_SIZE)\n",
    "        \n",
    "        session.run(train_op, feed_dict={x: x_batch,y: y_true_batch})\n",
    "    train_loss, train_acc = session.run([loss,acc_op],feed_dict={x:x_batch,y:y_true_batch})\n",
    "    test_loss, test_acc = session.run([loss,acc_op],feed_dict={x:data.test.images,y:data.test.labels})\n",
    "    train_loss_list3.append(train_loss)\n",
    "    train_acc_list3.append(train_acc)\n",
    "    test_loss_list3.append(test_loss)\n",
    "    test_acc_list3.append(test_acc)\n",
    "    msg = \"Epoch: {0:>6}, Training Loss: {1:>1.6}, Training Accuracy: {2:>6.1%}, Test Loss: {3:>1.6}, Test Accuracy: {4:>6.1%}\"\n",
    "    print(msg.format(i, train_loss, train_acc, test_loss, test_acc))"
   ]
  },
  {
   "cell_type": "markdown",
   "metadata": {},
   "source": [
    "___\n",
    "## 4.1 Model 4 Architecture"
   ]
  },
  {
   "cell_type": "code",
   "execution_count": 55,
   "metadata": {},
   "outputs": [
    {
     "name": "stdout",
     "output_type": "stream",
     "text": [
      "<tf.Variable 'conv2d/kernel:0' shape=(5, 5, 1, 8) dtype=float32_ref>\n",
      "<tf.Variable 'conv2d/bias:0' shape=(8,) dtype=float32_ref>\n",
      "<tf.Variable 'conv2d_1/kernel:0' shape=(5, 5, 8, 24) dtype=float32_ref>\n",
      "<tf.Variable 'conv2d_1/bias:0' shape=(24,) dtype=float32_ref>\n",
      "<tf.Variable 'dense/kernel:0' shape=(1176, 10) dtype=float32_ref>\n",
      "<tf.Variable 'dense/bias:0' shape=(10,) dtype=float32_ref>\n",
      "<tf.Variable 'dense_1/kernel:0' shape=(10, 10) dtype=float32_ref>\n",
      "<tf.Variable 'dense_1/bias:0' shape=(10,) dtype=float32_ref>\n",
      "Total Parameter:  16912\n"
     ]
    }
   ],
   "source": [
    "tf.reset_default_graph()\n",
    "x = tf.placeholder(tf.float32, shape=[None, img_flatten], name='x')\n",
    "input_x = tf.reshape(x,[-1,img_size,img_size,1])\n",
    "y = tf.placeholder(tf.float32, shape=[None, num_classes], name='y')\n",
    "y_cls = tf.argmax(y,dimension=1)\n",
    "\n",
    "conv1 = tf.layers.conv2d(inputs=input_x,filters=8,kernel_size=5,padding=\"same\",activation=tf.nn.relu);\n",
    "pool1 = tf.layers.max_pooling2d(inputs=conv1,pool_size=2,strides=2);\n",
    "conv2 = tf.layers.conv2d(inputs=pool1,filters=24,kernel_size=5,padding=\"same\",activation=tf.nn.relu);\n",
    "pool2 = tf.layers.max_pooling2d(inputs=conv2,pool_size=2,strides=2);\n",
    "flat1 = tf.layers.flatten(pool2);\n",
    "fc1 = tf.layers.dense(inputs=flat1,units=10,activation=tf.nn.relu);\n",
    "logits = tf.layers.dense(inputs=fc1,units=num_classes,activation=None);\n",
    "cross_entropy = tf.nn.softmax_cross_entropy_with_logits(labels=y,logits=logits);\n",
    "loss = tf.reduce_mean(cross_entropy);\n",
    "\n",
    "# Accuracy\n",
    "softmax = tf.nn.softmax(logits=logits);\n",
    "pred_op = tf.argmax(softmax,dimension=1);\n",
    "acc_op = tf.reduce_mean(tf.cast(tf.equal(pred_op, y_cls), tf.float32));\n",
    "optimizer = tf.train.AdamOptimizer(learning_rate=0.005);\n",
    "train_op = optimizer.minimize(loss);\n",
    "\n",
    "param4 = parameter_count()"
   ]
  },
  {
   "cell_type": "markdown",
   "metadata": {},
   "source": [
    "### 4.2 Model 4 Training"
   ]
  },
  {
   "cell_type": "code",
   "execution_count": 56,
   "metadata": {},
   "outputs": [
    {
     "name": "stdout",
     "output_type": "stream",
     "text": [
      "Epoch:      0, Training Loss: 0.066006, Training Accuracy:  98.4%, Test Loss: 0.0609542, Test Accuracy:  98.2%\n",
      "Epoch:      1, Training Loss: 0.0535932, Training Accuracy:  96.9%, Test Loss: 0.0603344, Test Accuracy:  98.1%\n",
      "Epoch:      2, Training Loss: 0.0090453, Training Accuracy: 100.0%, Test Loss: 0.0667324, Test Accuracy:  97.9%\n",
      "Epoch:      3, Training Loss: 0.0220817, Training Accuracy: 100.0%, Test Loss: 0.0492585, Test Accuracy:  98.6%\n",
      "Epoch:      4, Training Loss: 0.0468952, Training Accuracy:  96.9%, Test Loss: 0.0482411, Test Accuracy:  98.7%\n"
     ]
    }
   ],
   "source": [
    "train_loss_list4= []\n",
    "train_acc_list4 = []\n",
    "test_loss_list4 = []\n",
    "test_acc_list4 = []\n",
    "\n",
    "session = tf.Session()\n",
    "session.run(tf.global_variables_initializer())\n",
    "\n",
    "BATCH_SIZE = 64\n",
    "EPOCH = 5\n",
    "for i in range(EPOCH):\n",
    "    for j in range(int(data.train.num_examples/BATCH_SIZE)):\n",
    "\n",
    "        x_batch, y_true_batch = data.train.next_batch(BATCH_SIZE)\n",
    "        \n",
    "        session.run(train_op, feed_dict={x: x_batch,y: y_true_batch})\n",
    "    train_loss, train_acc = session.run([loss,acc_op],feed_dict={x:x_batch,y:y_true_batch})\n",
    "    test_loss, test_acc = session.run([loss,acc_op],feed_dict={x:data.test.images,y:data.test.labels})\n",
    "    train_loss_list4.append(train_loss)\n",
    "    train_acc_list4.append(train_acc)\n",
    "    test_loss_list4.append(test_loss)\n",
    "    test_acc_list4.append(test_acc)\n",
    "    msg = \"Epoch: {0:>6}, Training Loss: {1:>1.6}, Training Accuracy: {2:>6.1%}, Test Loss: {3:>1.6}, Test Accuracy: {4:>6.1%}\"\n",
    "    print(msg.format(i, train_loss, train_acc, test_loss, test_acc))"
   ]
  },
  {
   "cell_type": "markdown",
   "metadata": {},
   "source": [
    "___\n",
    "## 5.1 Model 5 Architecture"
   ]
  },
  {
   "cell_type": "code",
   "execution_count": 59,
   "metadata": {},
   "outputs": [
    {
     "name": "stdout",
     "output_type": "stream",
     "text": [
      "<tf.Variable 'conv2d/kernel:0' shape=(5, 5, 1, 8) dtype=float32_ref>\n",
      "<tf.Variable 'conv2d/bias:0' shape=(8,) dtype=float32_ref>\n",
      "<tf.Variable 'conv2d_1/kernel:0' shape=(5, 5, 8, 20) dtype=float32_ref>\n",
      "<tf.Variable 'conv2d_1/bias:0' shape=(20,) dtype=float32_ref>\n",
      "<tf.Variable 'dense/kernel:0' shape=(980, 10) dtype=float32_ref>\n",
      "<tf.Variable 'dense/bias:0' shape=(10,) dtype=float32_ref>\n",
      "<tf.Variable 'dense_1/kernel:0' shape=(10, 10) dtype=float32_ref>\n",
      "<tf.Variable 'dense_1/bias:0' shape=(10,) dtype=float32_ref>\n",
      "Total Parameter:  14148\n"
     ]
    }
   ],
   "source": [
    "tf.reset_default_graph()\n",
    "x = tf.placeholder(tf.float32, shape=[None, img_flatten], name='x')\n",
    "input_x = tf.reshape(x,[-1,img_size,img_size,1])\n",
    "y = tf.placeholder(tf.float32, shape=[None, num_classes], name='y')\n",
    "y_cls = tf.argmax(y,dimension=1)\n",
    "\n",
    "conv1 = tf.layers.conv2d(inputs=input_x,filters=8,kernel_size=5,padding=\"same\",activation=tf.nn.relu);\n",
    "pool1 = tf.layers.max_pooling2d(inputs=conv1,pool_size=2,strides=2);\n",
    "conv2 = tf.layers.conv2d(inputs=pool1,filters=20,kernel_size=5,padding=\"same\",activation=tf.nn.relu);\n",
    "pool2 = tf.layers.max_pooling2d(inputs=conv2,pool_size=2,strides=2);\n",
    "flat1 = tf.layers.flatten(pool2);\n",
    "fc1 = tf.layers.dense(inputs=flat1,units=10,activation=tf.nn.relu);\n",
    "logits = tf.layers.dense(inputs=fc1,units=num_classes,activation=None);\n",
    "cross_entropy = tf.nn.softmax_cross_entropy_with_logits(labels=y,logits=logits);\n",
    "loss = tf.reduce_mean(cross_entropy);\n",
    "\n",
    "# Accuracy\n",
    "softmax = tf.nn.softmax(logits=logits);\n",
    "pred_op = tf.argmax(softmax,dimension=1);\n",
    "acc_op = tf.reduce_mean(tf.cast(tf.equal(pred_op, y_cls), tf.float32));\n",
    "optimizer = tf.train.AdamOptimizer(learning_rate=0.005);\n",
    "train_op = optimizer.minimize(loss);\n",
    "\n",
    "param5 = parameter_count()"
   ]
  },
  {
   "cell_type": "markdown",
   "metadata": {},
   "source": [
    "### 5.2 Model 5 Training"
   ]
  },
  {
   "cell_type": "code",
   "execution_count": 60,
   "metadata": {},
   "outputs": [
    {
     "name": "stdout",
     "output_type": "stream",
     "text": [
      "Epoch:      0, Training Loss: 0.0773063, Training Accuracy:  96.9%, Test Loss: 0.0549455, Test Accuracy:  98.2%\n",
      "Epoch:      1, Training Loss: 0.00737932, Training Accuracy: 100.0%, Test Loss: 0.0524945, Test Accuracy:  98.5%\n",
      "Epoch:      2, Training Loss: 0.0348139, Training Accuracy:  96.9%, Test Loss: 0.0423364, Test Accuracy:  98.6%\n",
      "Epoch:      3, Training Loss: 0.0890925, Training Accuracy:  95.3%, Test Loss: 0.0570298, Test Accuracy:  98.3%\n",
      "Epoch:      4, Training Loss: 0.0295076, Training Accuracy:  98.4%, Test Loss: 0.0484192, Test Accuracy:  98.5%\n"
     ]
    }
   ],
   "source": [
    "train_loss_list5= []\n",
    "train_acc_list5 = []\n",
    "test_loss_list5 = []\n",
    "test_acc_list5 = []\n",
    "\n",
    "session = tf.Session()\n",
    "session.run(tf.global_variables_initializer())\n",
    "\n",
    "BATCH_SIZE = 64\n",
    "EPOCH = 5\n",
    "for i in range(EPOCH):\n",
    "    for j in range(int(data.train.num_examples/BATCH_SIZE)):\n",
    "\n",
    "        x_batch, y_true_batch = data.train.next_batch(BATCH_SIZE)\n",
    "        \n",
    "        session.run(train_op, feed_dict={x: x_batch,y: y_true_batch})\n",
    "    train_loss, train_acc = session.run([loss,acc_op],feed_dict={x:x_batch,y:y_true_batch})\n",
    "    test_loss, test_acc = session.run([loss,acc_op],feed_dict={x:data.test.images,y:data.test.labels})\n",
    "    train_loss_list5.append(train_loss)\n",
    "    train_acc_list5.append(train_acc)\n",
    "    test_loss_list5.append(test_loss)\n",
    "    test_acc_list5.append(test_acc)\n",
    "    msg = \"Epoch: {0:>6}, Training Loss: {1:>1.6}, Training Accuracy: {2:>6.1%}, Test Loss: {3:>1.6}, Test Accuracy: {4:>6.1%}\"\n",
    "    print(msg.format(i, train_loss, train_acc, test_loss, test_acc))"
   ]
  },
  {
   "cell_type": "markdown",
   "metadata": {},
   "source": [
    "___\n",
    "## 6.1 Model 6 Architecture"
   ]
  },
  {
   "cell_type": "code",
   "execution_count": 61,
   "metadata": {},
   "outputs": [
    {
     "name": "stdout",
     "output_type": "stream",
     "text": [
      "<tf.Variable 'conv2d/kernel:0' shape=(5, 5, 1, 8) dtype=float32_ref>\n",
      "<tf.Variable 'conv2d/bias:0' shape=(8,) dtype=float32_ref>\n",
      "<tf.Variable 'conv2d_1/kernel:0' shape=(5, 5, 8, 15) dtype=float32_ref>\n",
      "<tf.Variable 'conv2d_1/bias:0' shape=(15,) dtype=float32_ref>\n",
      "<tf.Variable 'dense/kernel:0' shape=(735, 10) dtype=float32_ref>\n",
      "<tf.Variable 'dense/bias:0' shape=(10,) dtype=float32_ref>\n",
      "<tf.Variable 'dense_1/kernel:0' shape=(10, 10) dtype=float32_ref>\n",
      "<tf.Variable 'dense_1/bias:0' shape=(10,) dtype=float32_ref>\n",
      "Total Parameter:  10693\n"
     ]
    }
   ],
   "source": [
    "tf.reset_default_graph()\n",
    "x = tf.placeholder(tf.float32, shape=[None, img_flatten], name='x')\n",
    "input_x = tf.reshape(x,[-1,img_size,img_size,1])\n",
    "y = tf.placeholder(tf.float32, shape=[None, num_classes], name='y')\n",
    "y_cls = tf.argmax(y,dimension=1)\n",
    "\n",
    "conv1 = tf.layers.conv2d(inputs=input_x,filters=8,kernel_size=5,padding=\"same\",activation=tf.nn.relu);\n",
    "pool1 = tf.layers.max_pooling2d(inputs=conv1,pool_size=2,strides=2);\n",
    "conv2 = tf.layers.conv2d(inputs=pool1,filters=15,kernel_size=5,padding=\"same\",activation=tf.nn.relu);\n",
    "pool2 = tf.layers.max_pooling2d(inputs=conv2,pool_size=2,strides=2);\n",
    "flat1 = tf.layers.flatten(pool2);\n",
    "fc1 = tf.layers.dense(inputs=flat1,units=10,activation=tf.nn.relu);\n",
    "logits = tf.layers.dense(inputs=fc1,units=num_classes,activation=None);\n",
    "cross_entropy = tf.nn.softmax_cross_entropy_with_logits(labels=y,logits=logits);\n",
    "loss = tf.reduce_mean(cross_entropy);\n",
    "\n",
    "# Accuracy\n",
    "softmax = tf.nn.softmax(logits=logits);\n",
    "pred_op = tf.argmax(softmax,dimension=1);\n",
    "acc_op = tf.reduce_mean(tf.cast(tf.equal(pred_op, y_cls), tf.float32));\n",
    "optimizer = tf.train.AdamOptimizer(learning_rate=0.005);\n",
    "train_op = optimizer.minimize(loss);\n",
    "\n",
    "param6 = parameter_count()"
   ]
  },
  {
   "cell_type": "markdown",
   "metadata": {},
   "source": [
    "### 6.2 Model 6 Training"
   ]
  },
  {
   "cell_type": "code",
   "execution_count": 62,
   "metadata": {},
   "outputs": [
    {
     "name": "stdout",
     "output_type": "stream",
     "text": [
      "Epoch:      0, Training Loss: 0.0368607, Training Accuracy:  98.4%, Test Loss: 0.0766295, Test Accuracy:  97.4%\n",
      "Epoch:      1, Training Loss: 0.0652636, Training Accuracy:  98.4%, Test Loss: 0.0634395, Test Accuracy:  98.0%\n",
      "Epoch:      2, Training Loss: 0.0302847, Training Accuracy:  98.4%, Test Loss: 0.0442813, Test Accuracy:  98.7%\n",
      "Epoch:      3, Training Loss: 0.0959103, Training Accuracy:  95.3%, Test Loss: 0.052783, Test Accuracy:  98.3%\n",
      "Epoch:      4, Training Loss: 0.0188064, Training Accuracy: 100.0%, Test Loss: 0.0441605, Test Accuracy:  98.6%\n"
     ]
    }
   ],
   "source": [
    "train_loss_list6= []\n",
    "train_acc_list6 = []\n",
    "test_loss_list6 = []\n",
    "test_acc_list6 = []\n",
    "\n",
    "session = tf.Session()\n",
    "session.run(tf.global_variables_initializer())\n",
    "\n",
    "BATCH_SIZE = 64\n",
    "EPOCH = 5\n",
    "for i in range(EPOCH):\n",
    "    for j in range(int(data.train.num_examples/BATCH_SIZE)):\n",
    "\n",
    "        x_batch, y_true_batch = data.train.next_batch(BATCH_SIZE)\n",
    "        \n",
    "        session.run(train_op, feed_dict={x: x_batch,y: y_true_batch})\n",
    "    train_loss, train_acc = session.run([loss,acc_op],feed_dict={x:x_batch,y:y_true_batch})\n",
    "    test_loss, test_acc = session.run([loss,acc_op],feed_dict={x:data.test.images,y:data.test.labels})\n",
    "    train_loss_list6.append(train_loss)\n",
    "    train_acc_list6.append(train_acc)\n",
    "    test_loss_list6.append(test_loss)\n",
    "    test_acc_list6.append(test_acc)\n",
    "    msg = \"Epoch: {0:>6}, Training Loss: {1:>1.6}, Training Accuracy: {2:>6.1%}, Test Loss: {3:>1.6}, Test Accuracy: {4:>6.1%}\"\n",
    "    print(msg.format(i, train_loss, train_acc, test_loss, test_acc))"
   ]
  },
  {
   "cell_type": "markdown",
   "metadata": {},
   "source": [
    "___\n",
    "## 7.1 Model 7 Architecture"
   ]
  },
  {
   "cell_type": "code",
   "execution_count": 63,
   "metadata": {},
   "outputs": [
    {
     "name": "stdout",
     "output_type": "stream",
     "text": [
      "<tf.Variable 'conv2d/kernel:0' shape=(5, 5, 1, 4) dtype=float32_ref>\n",
      "<tf.Variable 'conv2d/bias:0' shape=(4,) dtype=float32_ref>\n",
      "<tf.Variable 'conv2d_1/kernel:0' shape=(5, 5, 4, 15) dtype=float32_ref>\n",
      "<tf.Variable 'conv2d_1/bias:0' shape=(15,) dtype=float32_ref>\n",
      "<tf.Variable 'dense/kernel:0' shape=(735, 10) dtype=float32_ref>\n",
      "<tf.Variable 'dense/bias:0' shape=(10,) dtype=float32_ref>\n",
      "<tf.Variable 'dense_1/kernel:0' shape=(10, 10) dtype=float32_ref>\n",
      "<tf.Variable 'dense_1/bias:0' shape=(10,) dtype=float32_ref>\n",
      "Total Parameter:  9089\n"
     ]
    }
   ],
   "source": [
    "tf.reset_default_graph()\n",
    "x = tf.placeholder(tf.float32, shape=[None, img_flatten], name='x')\n",
    "input_x = tf.reshape(x,[-1,img_size,img_size,1])\n",
    "y = tf.placeholder(tf.float32, shape=[None, num_classes], name='y')\n",
    "y_cls = tf.argmax(y,dimension=1)\n",
    "\n",
    "conv1 = tf.layers.conv2d(inputs=input_x,filters=4,kernel_size=5,padding=\"same\",activation=tf.nn.relu);\n",
    "pool1 = tf.layers.max_pooling2d(inputs=conv1,pool_size=2,strides=2);\n",
    "conv2 = tf.layers.conv2d(inputs=pool1,filters=15,kernel_size=5,padding=\"same\",activation=tf.nn.relu);\n",
    "pool2 = tf.layers.max_pooling2d(inputs=conv2,pool_size=2,strides=2);\n",
    "flat1 = tf.layers.flatten(pool2);\n",
    "fc1 = tf.layers.dense(inputs=flat1,units=10,activation=tf.nn.relu);\n",
    "logits = tf.layers.dense(inputs=fc1,units=num_classes,activation=None);\n",
    "cross_entropy = tf.nn.softmax_cross_entropy_with_logits(labels=y,logits=logits);\n",
    "loss = tf.reduce_mean(cross_entropy);\n",
    "\n",
    "# Accuracy\n",
    "softmax = tf.nn.softmax(logits=logits);\n",
    "pred_op = tf.argmax(softmax,dimension=1);\n",
    "acc_op = tf.reduce_mean(tf.cast(tf.equal(pred_op, y_cls), tf.float32));\n",
    "optimizer = tf.train.AdamOptimizer(learning_rate=0.005);\n",
    "train_op = optimizer.minimize(loss);\n",
    "\n",
    "param7 = parameter_count()"
   ]
  },
  {
   "cell_type": "markdown",
   "metadata": {},
   "source": [
    "### 7.2 Model 7 Architecture"
   ]
  },
  {
   "cell_type": "code",
   "execution_count": 64,
   "metadata": {},
   "outputs": [
    {
     "name": "stdout",
     "output_type": "stream",
     "text": [
      "Epoch:      0, Training Loss: 0.0709381, Training Accuracy:  96.9%, Test Loss: 0.115695, Test Accuracy:  96.5%\n",
      "Epoch:      1, Training Loss: 0.0889735, Training Accuracy:  96.9%, Test Loss: 0.086189, Test Accuracy:  97.5%\n",
      "Epoch:      2, Training Loss: 0.138116, Training Accuracy:  96.9%, Test Loss: 0.0768443, Test Accuracy:  97.5%\n",
      "Epoch:      3, Training Loss: 0.0181357, Training Accuracy: 100.0%, Test Loss: 0.0646828, Test Accuracy:  98.2%\n",
      "Epoch:      4, Training Loss: 0.0220521, Training Accuracy: 100.0%, Test Loss: 0.0766277, Test Accuracy:  97.7%\n"
     ]
    }
   ],
   "source": [
    "train_loss_list7= []\n",
    "train_acc_list7 = []\n",
    "test_loss_list7 = []\n",
    "test_acc_list7 = []\n",
    "\n",
    "session = tf.Session()\n",
    "session.run(tf.global_variables_initializer())\n",
    "\n",
    "BATCH_SIZE = 64\n",
    "EPOCH = 5\n",
    "for i in range(EPOCH):\n",
    "    for j in range(int(data.train.num_examples/BATCH_SIZE)):\n",
    "\n",
    "        x_batch, y_true_batch = data.train.next_batch(BATCH_SIZE)\n",
    "        \n",
    "        session.run(train_op, feed_dict={x: x_batch,y: y_true_batch})\n",
    "    train_loss, train_acc = session.run([loss,acc_op],feed_dict={x:x_batch,y:y_true_batch})\n",
    "    test_loss, test_acc = session.run([loss,acc_op],feed_dict={x:data.test.images,y:data.test.labels})\n",
    "    train_loss_list7.append(train_loss)\n",
    "    train_acc_list7.append(train_acc)\n",
    "    test_loss_list7.append(test_loss)\n",
    "    test_acc_list7.append(test_acc)\n",
    "    msg = \"Epoch: {0:>6}, Training Loss: {1:>1.6}, Training Accuracy: {2:>6.1%}, Test Loss: {3:>1.6}, Test Accuracy: {4:>6.1%}\"\n",
    "    print(msg.format(i, train_loss, train_acc, test_loss, test_acc))"
   ]
  },
  {
   "cell_type": "markdown",
   "metadata": {},
   "source": [
    "___\n",
    "## 8.1 Model 8 Architecture"
   ]
  },
  {
   "cell_type": "code",
   "execution_count": 66,
   "metadata": {},
   "outputs": [
    {
     "name": "stdout",
     "output_type": "stream",
     "text": [
      "<tf.Variable 'conv2d/kernel:0' shape=(5, 5, 1, 4) dtype=float32_ref>\n",
      "<tf.Variable 'conv2d/bias:0' shape=(4,) dtype=float32_ref>\n",
      "<tf.Variable 'conv2d_1/kernel:0' shape=(5, 5, 4, 10) dtype=float32_ref>\n",
      "<tf.Variable 'conv2d_1/bias:0' shape=(10,) dtype=float32_ref>\n",
      "<tf.Variable 'dense/kernel:0' shape=(490, 10) dtype=float32_ref>\n",
      "<tf.Variable 'dense/bias:0' shape=(10,) dtype=float32_ref>\n",
      "<tf.Variable 'dense_1/kernel:0' shape=(10, 10) dtype=float32_ref>\n",
      "<tf.Variable 'dense_1/bias:0' shape=(10,) dtype=float32_ref>\n",
      "Total Parameter:  6134\n"
     ]
    }
   ],
   "source": [
    "tf.reset_default_graph()\n",
    "x = tf.placeholder(tf.float32, shape=[None, img_flatten], name='x')\n",
    "input_x = tf.reshape(x,[-1,img_size,img_size,1])\n",
    "y = tf.placeholder(tf.float32, shape=[None, num_classes], name='y')\n",
    "y_cls = tf.argmax(y,dimension=1)\n",
    "\n",
    "conv1 = tf.layers.conv2d(inputs=input_x,filters=4,kernel_size=5,padding=\"same\",activation=tf.nn.relu);\n",
    "pool1 = tf.layers.max_pooling2d(inputs=conv1,pool_size=2,strides=2);\n",
    "conv2 = tf.layers.conv2d(inputs=pool1,filters=10,kernel_size=5,padding=\"same\",activation=tf.nn.relu);\n",
    "pool2 = tf.layers.max_pooling2d(inputs=conv2,pool_size=2,strides=2);\n",
    "flat1 = tf.layers.flatten(pool2);\n",
    "fc1 = tf.layers.dense(inputs=flat1,units=10,activation=tf.nn.relu);\n",
    "logits = tf.layers.dense(inputs=fc1,units=num_classes,activation=None);\n",
    "cross_entropy = tf.nn.softmax_cross_entropy_with_logits(labels=y,logits=logits);\n",
    "loss = tf.reduce_mean(cross_entropy);\n",
    "\n",
    "# Accuracy\n",
    "softmax = tf.nn.softmax(logits=logits);\n",
    "pred_op = tf.argmax(softmax,dimension=1);\n",
    "acc_op = tf.reduce_mean(tf.cast(tf.equal(pred_op, y_cls), tf.float32));\n",
    "optimizer = tf.train.AdamOptimizer(learning_rate=0.005);\n",
    "train_op = optimizer.minimize(loss);\n",
    "\n",
    "param8 = parameter_count()"
   ]
  },
  {
   "cell_type": "markdown",
   "metadata": {},
   "source": [
    "### 8.2 Model 8 Training"
   ]
  },
  {
   "cell_type": "code",
   "execution_count": 67,
   "metadata": {},
   "outputs": [
    {
     "name": "stdout",
     "output_type": "stream",
     "text": [
      "Epoch:      0, Training Loss: 0.0686198, Training Accuracy:  96.9%, Test Loss: 0.100408, Test Accuracy:  96.7%\n",
      "Epoch:      1, Training Loss: 0.211625, Training Accuracy:  93.8%, Test Loss: 0.0984913, Test Accuracy:  96.9%\n",
      "Epoch:      2, Training Loss: 0.111864, Training Accuracy:  95.3%, Test Loss: 0.0797624, Test Accuracy:  97.3%\n",
      "Epoch:      3, Training Loss: 0.0116949, Training Accuracy: 100.0%, Test Loss: 0.0554739, Test Accuracy:  98.1%\n",
      "Epoch:      4, Training Loss: 0.00453868, Training Accuracy: 100.0%, Test Loss: 0.0543268, Test Accuracy:  98.3%\n"
     ]
    }
   ],
   "source": [
    "train_loss_list8= []\n",
    "train_acc_list8 = []\n",
    "test_loss_list8 = []\n",
    "test_acc_list8 = []\n",
    "\n",
    "session = tf.Session()\n",
    "session.run(tf.global_variables_initializer())\n",
    "\n",
    "BATCH_SIZE = 64\n",
    "EPOCH = 5\n",
    "for i in range(EPOCH):\n",
    "    for j in range(int(data.train.num_examples/BATCH_SIZE)):\n",
    "\n",
    "        x_batch, y_true_batch = data.train.next_batch(BATCH_SIZE)\n",
    "        \n",
    "        session.run(train_op, feed_dict={x: x_batch,y: y_true_batch})\n",
    "    train_loss, train_acc = session.run([loss,acc_op],feed_dict={x:x_batch,y:y_true_batch})\n",
    "    test_loss, test_acc = session.run([loss,acc_op],feed_dict={x:data.test.images,y:data.test.labels})\n",
    "    train_loss_list8.append(train_loss)\n",
    "    train_acc_list8.append(train_acc)\n",
    "    test_loss_list8.append(test_loss)\n",
    "    test_acc_list8.append(test_acc)\n",
    "    msg = \"Epoch: {0:>6}, Training Loss: {1:>1.6}, Training Accuracy: {2:>6.1%}, Test Loss: {3:>1.6}, Test Accuracy: {4:>6.1%}\"\n",
    "    print(msg.format(i, train_loss, train_acc, test_loss, test_acc))"
   ]
  },
  {
   "cell_type": "markdown",
   "metadata": {},
   "source": [
    "___\n",
    "## 9.1 Model Architecture"
   ]
  },
  {
   "cell_type": "code",
   "execution_count": 68,
   "metadata": {},
   "outputs": [
    {
     "name": "stdout",
     "output_type": "stream",
     "text": [
      "<tf.Variable 'conv2d/kernel:0' shape=(5, 5, 1, 5) dtype=float32_ref>\n",
      "<tf.Variable 'conv2d/bias:0' shape=(5,) dtype=float32_ref>\n",
      "<tf.Variable 'conv2d_1/kernel:0' shape=(5, 5, 5, 5) dtype=float32_ref>\n",
      "<tf.Variable 'conv2d_1/bias:0' shape=(5,) dtype=float32_ref>\n",
      "<tf.Variable 'dense/kernel:0' shape=(245, 10) dtype=float32_ref>\n",
      "<tf.Variable 'dense/bias:0' shape=(10,) dtype=float32_ref>\n",
      "<tf.Variable 'dense_1/kernel:0' shape=(10, 10) dtype=float32_ref>\n",
      "<tf.Variable 'dense_1/bias:0' shape=(10,) dtype=float32_ref>\n",
      "Total Parameter:  3330\n"
     ]
    }
   ],
   "source": [
    "tf.reset_default_graph()\n",
    "x = tf.placeholder(tf.float32, shape=[None, img_flatten], name='x')\n",
    "input_x = tf.reshape(x,[-1,img_size,img_size,1])\n",
    "y = tf.placeholder(tf.float32, shape=[None, num_classes], name='y')\n",
    "y_cls = tf.argmax(y,dimension=1)\n",
    "\n",
    "conv1 = tf.layers.conv2d(inputs=input_x,filters=5,kernel_size=5,padding=\"same\",activation=tf.nn.relu);\n",
    "pool1 = tf.layers.max_pooling2d(inputs=conv1,pool_size=2,strides=2);\n",
    "conv2 = tf.layers.conv2d(inputs=pool1,filters=5,kernel_size=5,padding=\"same\",activation=tf.nn.relu);\n",
    "pool2 = tf.layers.max_pooling2d(inputs=conv2,pool_size=2,strides=2);\n",
    "flat1 = tf.layers.flatten(pool2);\n",
    "fc1 = tf.layers.dense(inputs=flat1,units=10,activation=tf.nn.relu);\n",
    "logits = tf.layers.dense(inputs=fc1,units=num_classes,activation=None);\n",
    "cross_entropy = tf.nn.softmax_cross_entropy_with_logits(labels=y,logits=logits);\n",
    "loss = tf.reduce_mean(cross_entropy);\n",
    "\n",
    "# Accuracy\n",
    "softmax = tf.nn.softmax(logits=logits);\n",
    "pred_op = tf.argmax(softmax,dimension=1);\n",
    "acc_op = tf.reduce_mean(tf.cast(tf.equal(pred_op, y_cls), tf.float32));\n",
    "optimizer = tf.train.AdamOptimizer(learning_rate=0.005);\n",
    "train_op = optimizer.minimize(loss);\n",
    "\n",
    "param9 = parameter_count()"
   ]
  },
  {
   "cell_type": "markdown",
   "metadata": {},
   "source": [
    "### 9.2 Model 9 Training"
   ]
  },
  {
   "cell_type": "code",
   "execution_count": 69,
   "metadata": {},
   "outputs": [
    {
     "name": "stdout",
     "output_type": "stream",
     "text": [
      "Epoch:      0, Training Loss: 0.204651, Training Accuracy:  92.2%, Test Loss: 0.089405, Test Accuracy:  97.0%\n",
      "Epoch:      1, Training Loss: 0.00727753, Training Accuracy: 100.0%, Test Loss: 0.0829676, Test Accuracy:  97.5%\n",
      "Epoch:      2, Training Loss: 0.0067563, Training Accuracy: 100.0%, Test Loss: 0.0656416, Test Accuracy:  98.0%\n",
      "Epoch:      3, Training Loss: 0.00718814, Training Accuracy: 100.0%, Test Loss: 0.0629184, Test Accuracy:  98.1%\n",
      "Epoch:      4, Training Loss: 0.00705767, Training Accuracy: 100.0%, Test Loss: 0.053069, Test Accuracy:  98.4%\n"
     ]
    }
   ],
   "source": [
    "train_loss_list9= []\n",
    "train_acc_list9 = []\n",
    "test_loss_list9 = []\n",
    "test_acc_list9 = []\n",
    "\n",
    "session = tf.Session()\n",
    "session.run(tf.global_variables_initializer())\n",
    "\n",
    "BATCH_SIZE = 64\n",
    "EPOCH = 5\n",
    "for i in range(EPOCH):\n",
    "    for j in range(int(data.train.num_examples/BATCH_SIZE)):\n",
    "\n",
    "        x_batch, y_true_batch = data.train.next_batch(BATCH_SIZE)\n",
    "        \n",
    "        session.run(train_op, feed_dict={x: x_batch,y: y_true_batch})\n",
    "    train_loss, train_acc = session.run([loss,acc_op],feed_dict={x:x_batch,y:y_true_batch})\n",
    "    test_loss, test_acc = session.run([loss,acc_op],feed_dict={x:data.test.images,y:data.test.labels})\n",
    "    train_loss_list9.append(train_loss)\n",
    "    train_acc_list9.append(train_acc)\n",
    "    test_loss_list9.append(test_loss)\n",
    "    test_acc_list9.append(test_acc)\n",
    "    msg = \"Epoch: {0:>6}, Training Loss: {1:>1.6}, Training Accuracy: {2:>6.1%}, Test Loss: {3:>1.6}, Test Accuracy: {4:>6.1%}\"\n",
    "    print(msg.format(i, train_loss, train_acc, test_loss, test_acc))"
   ]
  },
  {
   "cell_type": "markdown",
   "metadata": {},
   "source": [
    "___\n",
    "## 10.1 Model 10 Architecture"
   ]
  },
  {
   "cell_type": "code",
   "execution_count": 88,
   "metadata": {},
   "outputs": [
    {
     "name": "stdout",
     "output_type": "stream",
     "text": [
      "<tf.Variable 'conv2d/kernel:0' shape=(5, 5, 1, 1) dtype=float32_ref>\n",
      "<tf.Variable 'conv2d/bias:0' shape=(1,) dtype=float32_ref>\n",
      "<tf.Variable 'conv2d_1/kernel:0' shape=(5, 5, 1, 1) dtype=float32_ref>\n",
      "<tf.Variable 'conv2d_1/bias:0' shape=(1,) dtype=float32_ref>\n",
      "<tf.Variable 'dense/kernel:0' shape=(49, 10) dtype=float32_ref>\n",
      "<tf.Variable 'dense/bias:0' shape=(10,) dtype=float32_ref>\n",
      "Total Parameter:  552\n"
     ]
    }
   ],
   "source": [
    "tf.reset_default_graph()\n",
    "x = tf.placeholder(tf.float32, shape=[None, img_flatten], name='x')\n",
    "input_x = tf.reshape(x,[-1,img_size,img_size,1])\n",
    "y = tf.placeholder(tf.float32, shape=[None, num_classes], name='y')\n",
    "y_cls = tf.argmax(y,dimension=1)\n",
    "\n",
    "conv1 = tf.layers.conv2d(inputs=input_x,filters=1,kernel_size=5,padding=\"same\",activation=tf.nn.relu);\n",
    "pool1 = tf.layers.max_pooling2d(inputs=conv1,pool_size=2,strides=2);\n",
    "conv2 = tf.layers.conv2d(inputs=pool1,filters=1,kernel_size=5,padding=\"same\",activation=tf.nn.relu);\n",
    "pool2 = tf.layers.max_pooling2d(inputs=conv2,pool_size=2,strides=2);\n",
    "flat1 = tf.layers.flatten(pool2);\n",
    "logits = tf.layers.dense(inputs=flat1,units=num_classes,activation=None);\n",
    "cross_entropy = tf.nn.softmax_cross_entropy_with_logits(labels=y,logits=logits);\n",
    "loss = tf.reduce_mean(cross_entropy);\n",
    "\n",
    "# Accuracy\n",
    "softmax = tf.nn.softmax(logits=logits);\n",
    "pred_op = tf.argmax(softmax,dimension=1);\n",
    "acc_op = tf.reduce_mean(tf.cast(tf.equal(pred_op, y_cls), tf.float32));\n",
    "optimizer = tf.train.AdamOptimizer(learning_rate=0.005);\n",
    "train_op = optimizer.minimize(loss);\n",
    "\n",
    "param10 = parameter_count()"
   ]
  },
  {
   "cell_type": "markdown",
   "metadata": {},
   "source": [
    "### 10.2 Model 10 Training"
   ]
  },
  {
   "cell_type": "code",
   "execution_count": null,
   "metadata": {},
   "outputs": [],
   "source": [
    "train_loss_list10= []\n",
    "train_acc_list10 = []\n",
    "test_loss_list10 = []\n",
    "test_acc_list10 = []\n",
    "\n",
    "session = tf.Session()\n",
    "session.run(tf.global_variables_initializer())\n",
    "\n",
    "BATCH_SIZE = 64\n",
    "EPOCH = 5\n",
    "for i in range(EPOCH):\n",
    "    for j in range(int(data.train.num_examples/BATCH_SIZE)):\n",
    "\n",
    "        x_batch, y_true_batch = data.train.next_batch(BATCH_SIZE)\n",
    "        \n",
    "        session.run(train_op, feed_dict={x: x_batch,y: y_true_batch})\n",
    "    train_loss, train_acc = session.run([loss,acc_op],feed_dict={x:x_batch,y:y_true_batch})\n",
    "    test_loss, test_acc = session.run([loss,acc_op],feed_dict={x:data.test.images,y:data.test.labels})\n",
    "    train_loss_list10.append(train_loss)\n",
    "    train_acc_list10.append(train_acc)\n",
    "    test_loss_list10.append(test_loss)\n",
    "    test_acc_list10.append(test_acc)\n",
    "    msg = \"Epoch: {0:>6}, Training Loss: {1:>1.6}, Training Accuracy: {2:>6.1%}, Test Loss: {3:>1.6}, Test Accuracy: {4:>6.1%}\"\n",
    "    print(msg.format(i, train_loss, train_acc, test_loss, test_acc))"
   ]
  },
  {
   "cell_type": "code",
   "execution_count": null,
   "metadata": {},
   "outputs": [],
   "source": []
  }
 ],
 "metadata": {
  "kernelspec": {
   "display_name": "DL_HW1",
   "language": "python",
   "name": "dl_hw1"
  },
  "language_info": {
   "codemirror_mode": {
    "name": "ipython",
    "version": 3
   },
   "file_extension": ".py",
   "mimetype": "text/x-python",
   "name": "python",
   "nbconvert_exporter": "python",
   "pygments_lexer": "ipython3",
   "version": "3.6.2"
  }
 },
 "nbformat": 4,
 "nbformat_minor": 2
}
