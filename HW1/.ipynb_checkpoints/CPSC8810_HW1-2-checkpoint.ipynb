{
 "cells": [
  {
   "cell_type": "markdown",
   "metadata": {},
   "source": [
    "# ** CPSC 8810 Deep Learning - Homework 1-2 **\n",
    "---\n",
    "\n",
    "## Introduction\n",
    "\n",
    "The main objective of this assignments:\n",
    "* Visualize the optimization process\n",
    "* Observe gradient norm during training\n",
    "* Observe what happen when gradient norm is almost zero\n"
   ]
  },
  {
   "cell_type": "code",
   "execution_count": 151,
   "metadata": {},
   "outputs": [
    {
     "data": {
      "text/plain": [
       "'1.15.0'"
      ]
     },
     "execution_count": 151,
     "metadata": {},
     "output_type": "execute_result"
    }
   ],
   "source": [
    "import tensorflow as tf\n",
    "import numpy as np\n",
    "from sklearn.decomposition import PCA\n",
    "\n",
    "%matplotlib inline\n",
    "import matplotlib.pyplot as plt\n",
    "tf.__version__"
   ]
  },
  {
   "cell_type": "markdown",
   "metadata": {},
   "source": [
    "## Data preparation and visualization\n",
    "### Simulated Function\n",
    "*f(x) = Sin(5πx)/(5πx)*              "
   ]
  },
  {
   "cell_type": "code",
   "execution_count": 153,
   "metadata": {},
   "outputs": [
    {
     "data": {
      "image/png": "[encoded data removed]",
      "text/plain": [
       "<Figure size 432x288 with 1 Axes>"
      ]
     },
     "metadata": {},
     "output_type": "display_data"
    }
   ],
   "source": [
    "X = np.arange(0.0001,1,0.0001)\n",
    "X_train = X.reshape(-1,1).astype(np.float32)\n",
    "Y = np.sin(5*np.pi*X)/(5*np.pi*X)\n",
    "Y_train = Y.reshape(-1,1).astype(np.float32)\n",
    "plt.plot(X,Y)\n",
    "plt.xlabel('x')\n",
    "plt.ylabel('f(x)')\n",
    "plt.title('f(x) = Sin(5πx)/(5πx)');"
   ]
  },
  {
   "cell_type": "markdown",
   "metadata": {},
   "source": [
    "## Placeholder for Input and Output"
   ]
  },
  {
   "cell_type": "code",
   "execution_count": 154,
   "metadata": {},
   "outputs": [],
   "source": [
    "tf.reset_default_graph()\n",
    "input_x = tf.placeholder(tf.float32,shape=[None,1])\n",
    "output_y = tf.placeholder(tf.float32,shape=[None,1])"
   ]
  },
  {
   "cell_type": "markdown",
   "metadata": {},
   "source": [
    "### Network Architecture"
   ]
  },
  {
   "cell_type": "code",
   "execution_count": 155,
   "metadata": {},
   "outputs": [],
   "source": [
    "# Model 1 neural network layers\n",
    "h1 = tf.layers.dense(inputs=input_x, units=5, activation=tf.nn.relu, name='h1')   # hidden layer\n",
    "h2 = tf.layers.dense(inputs=h1, units=10, activation=tf.nn.relu, name='h2')        # hidden layer\n",
    "h3 = tf.layers.dense(inputs=h2, units=15, activation=tf.nn.relu, name='h3')        # hidden layer\n",
    "h4 = tf.layers.dense(inputs=h3, units=10, activation=tf.nn.relu, name='h4')        # hidden layer\n",
    "h5 = tf.layers.dense(inputs=h3, units=5, activation=tf.nn.relu, name='h5')        # hidden layer\n",
    "output = tf.layers.dense(inputs=h4, units=1, name='output')                        # output layer"
   ]
  },
  {
   "cell_type": "markdown",
   "metadata": {},
   "source": [
    "### Loss function and Optimizer Initialization"
   ]
  },
  {
   "cell_type": "code",
   "execution_count": 156,
   "metadata": {},
   "outputs": [],
   "source": [
    "loss = tf.losses.mean_squared_error(output_y, output)   # compute cost\n",
    "optimizer = tf.train.AdamOptimizer(learning_rate=0.001)\n",
    "train_op = optimizer.minimize(loss)"
   ]
  },
  {
   "cell_type": "markdown",
   "metadata": {},
   "source": [
    "### Get weights variable from layers"
   ]
  },
  {
   "cell_type": "code",
   "execution_count": 124,
   "metadata": {},
   "outputs": [],
   "source": [
    "def get_weights_variable(layer_name):\n",
    "    # Retrieve an existing variable named 'kernel' in the scope\n",
    "    # with the given layer_name.\n",
    "    # This is awkward because the TensorFlow function was\n",
    "    # really intended for another purpose.\n",
    "    with tf.variable_scope(layer_name, reuse=True):\n",
    "        variable = tf.get_variable('kernel')\n",
    "    return variable\n",
    "\n",
    "w_h1 = tf.reshape(get_weights_variable('h1'),[1,-1])\n",
    "w_h2 = tf.reshape(get_weights_variable('h2'),[1,-1])\n",
    "w_h3 = tf.reshape(get_weights_variable('h3'),[1,-1])\n",
    "w_h4 = tf.reshape(get_weights_variable('h4'),[1,-1])\n",
    "w_h5 = tf.reshape(get_weights_variable('h5'),[1,-1])\n",
    "w_out = tf.reshape(get_weights_variable('output'),[1,-1])\n",
    "w_model = tf.concat([w_h1,w_h2,w_h3,w_h4,w_h5,w_out],axis=1)"
   ]
  },
  {
   "cell_type": "markdown",
   "metadata": {},
   "source": [
    "### Gradient norm and Hessian Calculation"
   ]
  },
  {
   "cell_type": "code",
   "execution_count": 125,
   "metadata": {},
   "outputs": [
    {
     "name": "stdout",
     "output_type": "stream",
     "text": [
      "Tensor(\"gradients_1/output/MatMul_grad/MatMul_1:0\", shape=(10, 1), dtype=float32)\n",
      "Tensor(\"norm/Squeeze:0\", shape=(), dtype=float32)\n",
      "Tensor(\"Sum:0\", shape=(10, 1, 1), dtype=float32)\n",
      "Tensor(\"truediv:0\", shape=(), dtype=float64)\n"
     ]
    }
   ],
   "source": [
    "#grad = opt.compute_gradients(loss, weights_fc_out)[0]\n",
    "grads = tf.gradients(loss, get_weights_variable('output'))[0]\n",
    "grads_norm = tf.norm(grads)\n",
    "print(grads)\n",
    "print(grads_norm)\n",
    "\n",
    "hessian = tf.reduce_sum(tf.hessians(loss, get_weights_variable('output'))[0], axis = 2)\n",
    "print(hessian)\n",
    "\n",
    "eigenvalue = tf.linalg.eigvalsh(hessian)\n",
    "minimal_ratio = tf.count_nonzero(tf.greater(eigenvalue, 0.))/eigenvalue.shape[0]\n",
    "print(minimal_ratio)"
   ]
  },
  {
   "cell_type": "code",
   "execution_count": 126,
   "metadata": {},
   "outputs": [],
   "source": [
    "def plot_pca(w_list):\n",
    "    # Assume weights in weights_list are TensorFlow ops for 2-dim variables\n",
    "    \n",
    "    # Retrieve the values of the weight-variables from TensorFlow.\n",
    "    # A feed-dict is not necessary because nothing is calculated.    \n",
    "    pca = PCA(n_components=2)\n",
    "    fig = plt.figure(figsize = (8,8))\n",
    "    plt.xlabel('Principal Component 1', fontsize = 15)\n",
    "    plt.ylabel('Principal Component 2', fontsize = 15)\n",
    "    plt.title('2 component PCA', fontsize = 20)\n",
    "    #for i in range(w_list.shape[0]):\n",
    "    principalComponents = pca.fit_transform(w_list)\n",
    "    colors = plt.cm.Blues(np.linspace(0,1,principalComponents.shape[0]))\n",
    "    for i in range(principalComponents.shape[0]):\n",
    "        plt.scatter(principalComponents[i,0], principalComponents[i,1],label=i,color=colors[i])\n",
    "    plt.show()"
   ]
  },
  {
   "cell_type": "markdown",
   "metadata": {},
   "source": [
    "### Training using normal loss function"
   ]
  },
  {
   "cell_type": "code",
   "execution_count": 146,
   "metadata": {},
   "outputs": [
    {
     "name": "stdout",
     "output_type": "stream",
     "text": [
      "Epoch:  0 Loss:  0.0984374\n",
      "Epoch:  100 Loss:  0.08015308\n",
      "Epoch:  200 Loss:  0.038518816\n",
      "Epoch:  300 Loss:  0.0088413665\n",
      "Epoch:  400 Loss:  0.0058158305\n",
      "Epoch:  500 Loss:  0.004200327\n",
      "Epoch:  600 Loss:  0.002625031\n",
      "Epoch:  700 Loss:  0.0022720413\n",
      "Epoch:  800 Loss:  0.002120702\n",
      "Epoch:  900 Loss:  0.0019658857\n"
     ]
    }
   ],
   "source": [
    "sess = tf.Session() \n",
    "sess.run(tf.global_variables_initializer())         # initialize var in graph\n",
    "EPOCH = 1000\n",
    "\n",
    "loss_list = []\n",
    "grads_norm_list = []\n",
    "min_ratio_list = []\n",
    "for i in range(EPOCH):\n",
    "    # train and net output\n",
    "    _, l, pred, grad_norm,min_ratio = sess.run([train_op, loss, output,grads_norm,minimal_ratio], feed_dict={input_x: X_train, output_y: Y_train})\n",
    "    loss_list.append(l)\n",
    "    grads_norm_list.append(grad_norm)\n",
    "    min_ratio_list.append(min_ratio)\n",
    "    if i%100 == 0:\n",
    "        print(\"Epoch: \",i,\"Loss: \",l)"
   ]
  },
  {
   "cell_type": "code",
   "execution_count": 157,
   "metadata": {},
   "outputs": [
    {
     "data": {
      "image/png": "[encoded data removed]",
      "text/plain": [
       "<Figure size 1080x288 with 2 Axes>"
      ]
     },
     "metadata": {},
     "output_type": "display_data"
    },
    {
     "data": {
      "text/plain": [
       "Text(0.5, 1.0, 'Minimal Ratio vs Loss')"
      ]
     },
     "execution_count": 157,
     "metadata": {},
     "output_type": "execute_result"
    },
    {
     "data": {
      "image/png": "[encoded data removed]",
      "text/plain": [
       "<Figure size 432x288 with 1 Axes>"
      ]
     },
     "metadata": {},
     "output_type": "display_data"
    }
   ],
   "source": [
    "fig,axs = plt.subplots(1,2)\n",
    "fig.set_figwidth(15)\n",
    "fig.suptitle('Grad Norm and Loss')\n",
    "axs[0].plot(grads_norm_list)\n",
    "axs[0].set_xlabel('Epoch')\n",
    "axs[0].set_ylabel('grad norm')\n",
    "axs[1].plot(loss_list)\n",
    "axs[1].set_xlabel('Epoch')\n",
    "axs[1].set_ylabel('Loss')\n",
    "plt.pause(0.1)\n",
    "plt.scatter(min_ratio_list,loss_list)\n",
    "plt.xlabel('Minimal Ratio')\n",
    "plt.ylabel('Loss');\n",
    "plt.title('Minimal Ratio vs Loss')"
   ]
  },
  {
   "cell_type": "markdown",
   "metadata": {},
   "source": [
    "### Training using gradient norm as objective function"
   ]
  },
  {
   "cell_type": "code",
   "execution_count": 148,
   "metadata": {},
   "outputs": [],
   "source": [
    "grad_norm_train_op = optimizer.minimize(grads_norm)"
   ]
  },
  {
   "cell_type": "code",
   "execution_count": 149,
   "metadata": {},
   "outputs": [
    {
     "name": "stdout",
     "output_type": "stream",
     "text": [
      "Epoch:  0 Loss:  0.0017684276 Minimal Ratio:  0.4\n",
      "Epoch:  10 Loss:  0.004637043 Minimal Ratio:  0.30000000000000004\n",
      "Epoch:  20 Loss:  0.0095747905 Minimal Ratio:  0.30000000000000004\n",
      "Epoch:  30 Loss:  0.0104337875 Minimal Ratio:  0.30000000000000004\n",
      "Epoch:  40 Loss:  0.010116715 Minimal Ratio:  0.30000000000000004\n",
      "Epoch:  50 Loss:  0.009564022 Minimal Ratio:  0.30000000000000004\n",
      "Epoch:  60 Loss:  0.009530029 Minimal Ratio:  0.30000000000000004\n",
      "Epoch:  70 Loss:  0.009595869 Minimal Ratio:  0.30000000000000004\n",
      "Epoch:  80 Loss:  0.009864892 Minimal Ratio:  0.30000000000000004\n",
      "Epoch:  90 Loss:  0.010008138 Minimal Ratio:  0.30000000000000004\n"
     ]
    }
   ],
   "source": [
    "EPOCH = 100\n",
    "grads_loss_list = []\n",
    "min_ratio_list2 = []\n",
    "for i in range(EPOCH):\n",
    "    # train and net output\n",
    "    _, l, min_ratio = sess.run([grad_norm_train_op, loss, minimal_ratio], feed_dict={input_x: X_train, output_y: Y_train})\n",
    "    min_ratio_list2.append(min_ratio)\n",
    "    grads_loss_list.append(l)\n",
    "    if i%10 == 0:\n",
    "        print(\"Epoch: \",i,\"Loss: \",l,\"Minimal Ratio: \",min_ratio)"
   ]
  },
  {
   "cell_type": "code",
   "execution_count": 150,
   "metadata": {},
   "outputs": [
    {
     "data": {
      "image/png": "[encoded data removed]",
      "text/plain": [
       "<Figure size 432x288 with 1 Axes>"
      ]
     },
     "metadata": {},
     "output_type": "display_data"
    }
   ],
   "source": [
    "plt.scatter(min_ratio_list2,grads_loss_list)\n",
    "plt.xlabel('Minimal Ratio')\n",
    "plt.ylabel('Loss')\n",
    "plt.pause(0.1)\n"
   ]
  },
  {
   "cell_type": "code",
   "execution_count": null,
   "metadata": {},
   "outputs": [],
   "source": []
  }
 ],
 "metadata": {
  "kernelspec": {
   "display_name": "DL_HW1",
   "language": "python",
   "name": "dl_hw1"
  },
  "language_info": {
   "codemirror_mode": {
    "name": "ipython",
    "version": 3
   },
   "file_extension": ".py",
   "mimetype": "text/x-python",
   "name": "python",
   "nbconvert_exporter": "python",
   "pygments_lexer": "ipython3",
   "version": "3.6.2"
  }
 },
 "nbformat": 4,
 "nbformat_minor": 2
}
